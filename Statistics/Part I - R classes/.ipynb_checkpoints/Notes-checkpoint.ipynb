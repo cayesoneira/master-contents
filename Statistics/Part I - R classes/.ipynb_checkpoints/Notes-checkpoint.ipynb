{
 "cells": [
  {
   "cell_type": "markdown",
   "id": "3b9f7d91-4541-4e01-a005-351fe9aafe81",
   "metadata": {},
   "source": [
    "# Notes on the R Class 1\n",
    "\n",
    "## Why R?\n",
    "Powerful, free, standard... and because it makes no harm.\n",
    "\n",
    "## A good guide:\n",
    "http://venus.ifca.unican.es/Rintro/"
   ]
  },
  {
   "cell_type": "markdown",
   "id": "20f323e3-4179-4e7e-914d-2ff5265ed86f",
   "metadata": {},
   "source": [
    "## Some ideas:\n",
    "- The code also needs citations! R has a function for it: `citation()`.\n",
    "- It is recommended to write explicitely the options, i.e., write `seq(lentgh=10, from=1, by=3)` instead of `seq(10,1,3)`, even though R works both ways depending with the syntax of the function.\n",
    "- Do not try to invent the wheel: there are lots of nice tools that are already tested to work with.\n",
    "- R starts counting indexes in 1.\n",
    "- Matrices get full by columns.\n",
    "- Arrays: rows, columns and *layers*.\n",
    "- `Factor` function: used to segregate the data in different categories.\n",
    "- `list`: the total pocket, it may contain all types of objects.\n",
    "- `data.frame`: the classical tables; they work with header and columns.\n",
    "- Remember to use the `cat()`to display text in screen!\n",
    "- **Atention!** Just in case, Maite writes at the beginning of every R script the following: `options(stringAsFactors = FALSE)` to avoid considering them by default like that.\n",
    "- The function `attach(<data.frame>)` helps us setting some data.frame as default.\n",
    "- Of course, there are functions! The format is:\n",
    "\n",
    "        stddev <- function(x){\n",
    "            res = sqrt(sum(x-mean(x))^2) / (length(x)-1)\n",
    "            return(res)\n",
    "        }\n",
    "        \n",
    "- Hey"
   ]
  },
  {
   "cell_type": "markdown",
   "id": "ab73c1f0-1b23-42d3-aa74-ccf582d8822d",
   "metadata": {},
   "source": [
    "- Nice picture for understanding structures in R: ![It should show a nice coloured diagram](http://venus.ifca.unican.es/Rintro/_images/dataStructuresNew.png)"
   ]
  },
  {
   "cell_type": "code",
   "execution_count": null,
   "id": "1fb87787-3a6e-4aa1-9e11-10655a0f98b7",
   "metadata": {},
   "outputs": [],
   "source": []
  },
  {
   "cell_type": "code",
   "execution_count": null,
   "id": "3640268b-8241-4f66-bb5e-3c11a002fab8",
   "metadata": {},
   "outputs": [],
   "source": []
  }
 ],
 "metadata": {
  "kernelspec": {
   "display_name": "R",
   "language": "R",
   "name": "ir"
  },
  "language_info": {
   "codemirror_mode": "r",
   "file_extension": ".r",
   "mimetype": "text/x-r-source",
   "name": "R",
   "pygments_lexer": "r",
   "version": "4.2.1"
  }
 },
 "nbformat": 4,
 "nbformat_minor": 5
}
