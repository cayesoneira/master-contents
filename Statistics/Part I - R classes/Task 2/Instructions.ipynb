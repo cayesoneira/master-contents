{
 "cells": [
  {
   "cell_type": "markdown",
   "metadata": {},
   "source": [
    "# R-class 4 (2 hours) \n",
    "\n",
    "## Exercise 2\n",
    "\n",
    "1) DATA: isciii_Cantabria_code01.csv  \n",
    "\n",
    "    1.0 Read data (Poiss errors - sqrt): days_since_01012020, number_of_cases  \n",
    "    1.1 Plot data   \n",
    "    1.2 rebin in 7 days blocks (0-6, 7-13, ...) and get mean  \n",
    "          x: mean point of the 7-days bin  \n",
    "          y: sum of cases in 7 days/7  \n",
    "          err_y: sqrt(sum_cases_in_7days)/7    \n",
    "    1.3 plot binned interval from 650 to 740 days  \n",
    "      \n",
    "  ![No image, sorry](days_bin_plot.png)\n",
    "  \n",
    "2) Fitting (plot fittings) + Chi2 calculations + Goodness of fit\n",
    "    \n",
    "    Q = pH0 = pchisq(chi2>chi2_of_fit) \n",
    "    \n",
    "    2.1) Fit model \"constant\", Chi2 & P(H0) => use 'lm'  \n",
    "    2.2) Fit model \"coli\": constant + linear using Chi2 & P(H0) => use 'optim' with initial values: \n",
    "        N0 = N0/2\n",
    "        t0 = 700\n",
    "        tau = 0.01  \n",
    "        \n",
    "    2.3) Fit model \"coliqua\": constant + linear +  power(2) using Chi2 & P(H0) => use 'optim' with initial values:  \n",
    "        N0.init <- N0_coli   \n",
    "        t01.init <- 713 # very sensitive to this value  \n",
    "        tau1.init <- tau_coli  \n",
    "        t02.init <- t0_coli  \n",
    "        tau2.init <- 3  (not less than 3)  \n",
    "        \n",
    "    2.4) Fit model \"copopo\": constant + power(a) + power(b) using Chi2 & P(H0) => use 'optim' with initial values:  \n",
    "        N0.init <- N0_coliqua  \n",
    "        t01.init <- t01_coliqua  \n",
    "        tau1.init <- tau1_coliqua  \n",
    "        a.init <- 1  \n",
    "        t02.init <- t02_coliqua  \n",
    "        tau2.init <- tau2_coliqua  \n",
    "        b.init <- 2  \n",
    "        \n",
    "8) Calculate Ftest for EACH model comparison (**do not confuse with var.test**): \"coli\" vs \"co\"; \"coliqua\" vs \"coli\"; \"copopo\" vs \"coliqua\" \n",
    "\n",
    "    Calculate F (from class expressions and then calculate the probability of F being larger that this value):  \n",
    "        Ex.:  \n",
    "        F_co_coli = (see class notes expression)\n",
    "        pf(F>F_co_coli, ...), nu1=nu_co-nu_coli; nu2=nu_coli\n",
    "        improve=1-pF  \n",
    "        \n",
    "9) OPTIONAL: confidence contours for \"a\" and \"b\" in model \"copopo\"  \n",
    "\n",
    "    define a grid in 'a' and 'b'  \n",
    "    foreach 'a':  \n",
    "       foreach 'b':  \n",
    "           minimize with 'optim' to all the other params (except 'a' and 'b') with initial values those \n",
    "           of previous copopo fit   \n",
    "           save chi2  \n",
    "    matrix of chi2 values  \n",
    "    call R command 'contour'  \n",
    "    \n",
    "    Notes: very sensitive to initial values in optim for each (a,b) tested values; not very well behaved function  \n",
    "    \n",
    "\n",
    "10) Which is the most apropriate model?  "
   ]
  },
  {
   "cell_type": "markdown",
   "metadata": {},
   "source": [
    "\"co\": $N_0$\n",
    "\n",
    "\"coli\": $N_0 + \\frac{max(0,(x-t_0))}{\\tau}$\n",
    "\n",
    "\"coliqua\": $N_0 + \\frac{max(0,(x-t_{01}))}{\\tau_1} + (\\frac{max(0,(x-t_{02}))}{\\tau_2})^2$\n",
    "\n",
    "\"copopo\": $N_0 + (\\frac{max(0,(x-t_{01})}{\\tau_1})^a + (\\frac{max(0,(x-t_{02}))}{\\tau_2})^b $  "
   ]
  },
  {
   "cell_type": "markdown",
   "metadata": {},
   "source": [
    "### Contours\n",
    "\n"
   ]
  },
  {
   "cell_type": "markdown",
   "metadata": {},
   "source": [
    "### Notes:\n",
    "* library(Hmisc) for err bars\n",
    "* No excel manipulation: all operations in R\n",
    "* NEVER truncate data in working table: truncation only for presentation purposes (less precise results, specially with small numbers)\n"
   ]
  },
  {
   "cell_type": "code",
   "execution_count": null,
   "metadata": {},
   "outputs": [],
   "source": []
  },
  {
   "cell_type": "code",
   "execution_count": null,
   "metadata": {},
   "outputs": [],
   "source": []
  }
 ],
 "metadata": {
  "kernelspec": {
   "display_name": "R",
   "language": "R",
   "name": "ir"
  },
  "language_info": {
   "codemirror_mode": "r",
   "file_extension": ".r",
   "mimetype": "text/x-r-source",
   "name": "R",
   "pygments_lexer": "r",
   "version": "4.2.2"
  },
  "toc": {
   "base_numbering": 1,
   "nav_menu": {},
   "number_sections": true,
   "sideBar": true,
   "skip_h1_title": false,
   "title_cell": "Table of Contents",
   "title_sidebar": "Contents",
   "toc_cell": false,
   "toc_position": {},
   "toc_section_display": true,
   "toc_window_display": false
  },
  "varInspector": {
   "cols": {
    "lenName": 16,
    "lenType": 16,
    "lenVar": 40
   },
   "kernels_config": {
    "python": {
     "delete_cmd_postfix": "",
     "delete_cmd_prefix": "del ",
     "library": "var_list.py",
     "varRefreshCmd": "print(var_dic_list())"
    },
    "r": {
     "delete_cmd_postfix": ") ",
     "delete_cmd_prefix": "rm(",
     "library": "var_list.r",
     "varRefreshCmd": "cat(var_dic_list()) "
    }
   },
   "types_to_exclude": [
    "module",
    "function",
    "builtin_function_or_method",
    "instance",
    "_Feature"
   ],
   "window_display": false
  }
 },
 "nbformat": 4,
 "nbformat_minor": 4
}
