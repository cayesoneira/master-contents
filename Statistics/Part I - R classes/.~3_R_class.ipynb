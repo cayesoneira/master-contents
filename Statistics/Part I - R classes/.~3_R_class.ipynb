{
 "cells": [
  {
   "cell_type": "markdown",
   "metadata": {},
   "source": [
    "# R-class 3 (2 hours) "
   ]
  },
  {
   "cell_type": "markdown",
   "metadata": {},
   "source": [
    "## Deliverable Ex. 1"
   ]
  },
  {
   "cell_type": "markdown",
   "metadata": {},
   "source": [
    "###  Use tests to answer questions:  \n",
    "  * Do the have the same mean?\n",
    "  * Do they have the same variance?\n",
    "  * Are they compatible with being the same distribution?\n",
    "  \n",
    "Ho = both distributions are equal\n",
    "\n",
    "p(Ho) = p-val=1% => only 1% of the times we will have such a diffence in the means/variances by chance \n",
    "                    (diffence ~ real)\n",
    "p(Ho) = p-val=90% => 90% of the times we will have such a difference in the means/variances by chance \n",
    "                    (diff ~not real) \n",
    "\n",
    "```\n",
    " P(Ho) = *.test$pvalue\n",
    " \n",
    "```\n",
    "\n",
    "**RANKS:**\n",
    "    \n",
    "```\n",
    "    dat1r <-rank(dat12,ties.method=\"average\")[1:N1]\n",
    "    dat2r <-rank(dat12,ties.method=\"average\")[(N1+1):N12]\n",
    "```"
   ]
  },
  {
   "cell_type": "code",
   "execution_count": null,
   "metadata": {},
   "outputs": [],
   "source": [
    "# rank example\n",
    "#dat1 <- floor(runif(10,0,20))\n",
    "#dat2 <- floor(runif(10,0,20))\n",
    "dat1 <- sample(0:50,10)\n",
    "dat2 <- sample(0:50,10)\n",
    "cat(\"dat1=\",dat1,\"\\n\")\n",
    "cat(\"dat2=\",dat2,\"\\n\")"
   ]
  },
  {
   "cell_type": "code",
   "execution_count": null,
   "metadata": {},
   "outputs": [],
   "source": [
    "# previous calculations to compare ranks-by-hand and R-ranks\n",
    "dat12 <- c(dat1,dat2)\n",
    "dat12r <- rank(dat12,ties.method=\"average\")\n",
    "dat1r <- rank(dat12,ties.method=\"average\")[1:10]\n",
    "dat2r <- rank(dat12,ties.method=\"average\")[11:20]"
   ]
  },
  {
   "cell_type": "code",
   "execution_count": null,
   "metadata": {},
   "outputs": [],
   "source": [
    "dat12s <- sort(dat12)\n",
    "\n",
    "cat(\"Doing ranks step by step...\\n\")\n",
    "cat(\"=============================\\n\")\n",
    "handmade <- rbind(\"dat12\"=as.character(dat12), dat12s) # as.character only for display purposes\n",
    "handmade\n",
    "results <- data.frame(\"dat1_element\"=dat12[1:10], \"dat1_positions\"=as.character(dat1r), \n",
    "                      \"dat2_elements\"=dat12[11:20], \"dat2_positions\"=as.character(dat2r))\n",
    "results\n",
    "\n",
    "cat(\"Using R ranks\\n\")\n",
    "cat(\"=============================\\n\")\n",
    "all <- rbind(\"dat12r\"=as.character(dat12r)) # as.character only for display purposes\n",
    "all\n",
    "all1 <- rbind(\"dat1r\"=as.character(dat1r), \"dat2r\"=as.character(dat2r))\n",
    "all1"
   ]
  },
  {
   "cell_type": "markdown",
   "metadata": {},
   "source": [
    "**TESTS:**\n",
    "\n",
    "    * USE 99% confidence level\n",
    "\n",
    "    * F (isher) test: parametric test for the variance\n",
    "        Use var.test -> use this for parametric tests\n",
    "        \n",
    "    * t (Student) test: parametric test for the mean \n",
    "        Two cases (sigmas are equal/different - aprox. Welch)\n",
    "        Use t.test\n",
    "        \n",
    "       t.test(x, ..., alternative = ..., var.equal = ..., conf.level = ...)\n",
    "\n",
    "    \n",
    "    * Non-parametric test of the mean:\n",
    "        wilcox.test (test U from Wilcoxon-Mann-Whitney over original data)\n",
    "        \n",
    "    * Test F over ranks: Variance tests for large N  \n",
    "        Use var.test (over ranks)\n",
    "        \n",
    "    * Z-test: variance test for large N  \n",
    "         p(Ho) = 1 - P(HA) = erfc(Z)  \n",
    "        **Note**: install 'pracma' for erf() \n",
    "        \n",
    "    * K-S test: compare the full distribution\n",
    "        Use ks.test"
   ]
  },
  {
   "cell_type": "markdown",
   "metadata": {},
   "source": [
    "# Minimization and model fitting\n",
    "1. Function roots (unidimensional case):  \n",
    "   * Polynomial roots: ```polyroot```  \n",
    "   * Non-polynomial functions roots: ```uniroot```  \n",
    "2. Maxima and minima searching (unidimensional): ```optimize```  \n",
    "3. Fit of unidimensional functions to a straight line:  \n",
    "   * Uni-parametric:   \n",
    "       - By least squares: ```lm```  \n",
    "       - Minimizing distances: ```optimize```   (optional)  \n",
    "   * Multiparametric:``optim``"
   ]
  },
  {
   "cell_type": "code",
   "execution_count": null,
   "metadata": {},
   "outputs": [],
   "source": [
    "library(repr) # resize plots\n",
    "# Change plot size to 4 x 4\n",
    "options(repr.plot.width=5, repr.plot.height=5)"
   ]
  },
  {
   "cell_type": "markdown",
   "metadata": {},
   "source": [
    "## 1. Function roots (unidimensional case)\n",
    "### a) Polynomial roots: ``polyroot``\n",
    "\n",
    "1.- $f(x) = 3 + 2 x + x^2 = 0$\n",
    "\n",
    "2.- $f(x) = (x-3)(x-{1\\over2})(x+{1\\over2})(x+4) = 3 - {1\\over4} x - {49 \\over 4} x^2 + x^3 + x^4$  (class ex.)"
   ]
  },
  {
   "cell_type": "code",
   "execution_count": null,
   "metadata": {},
   "outputs": [],
   "source": [
    "#Example 1\n",
    "# simple way to check if polynomial becomes negative\n",
    "pol1 <- function(x){  # define polynomial\n",
    "    res <- 3 + 2*x + x^2\n",
    "}    \n",
    "x <- seq(-100,100,by=0.1)\n",
    "cat(\"Is it negative?\", any(pol1(x) < 0), \"\\n\")   \n",
    "\n",
    "#root calculation\n",
    "zeros <- polyroot(c(3,2,1))   # look for roots\n",
    "print(zeros)                  # no real roots; only complex roots\n",
    "\n",
    "#plotting\n",
    "options(repr.plot.width=4, repr.plot.height=4)\n",
    "curve(pol1, xlim=c(-100,100),cex.axis=0.8, cex.lab=0.8, ylim=c(-1000,10000))\n",
    "abline(h=0, col=\"red\")"
   ]
  },
  {
   "cell_type": "markdown",
   "metadata": {},
   "source": [
    "---\n",
    "---\n",
    "### CLASS EXERCISE: \n",
    "\n",
    "$f(x) = (x-3)(x-{1\\over2})(x+{1\\over2})(x+4) = 3 - {1\\over4} x - {49 \\over 4} x^2 + x^3 + x^4$"
   ]
  },
  {
   "cell_type": "markdown",
   "metadata": {},
   "source": [
    "---\n",
    "---"
   ]
  },
  {
   "cell_type": "markdown",
   "metadata": {},
   "source": [
    "### b) Non-poynomial functions: ``uniroot``\n",
    "* Function values must have opposite signs in both edges of the interval to ensure that at least one root exists in the interval (Bolzano Theorem)\n",
    "\n",
    "* Search is done in a **given interval** of the unidimensional argument of the function: provide limits!\n",
    "* It only finds one root\n",
    "\n",
    "$f(x) = cos(x)-sin(2 x)$\n"
   ]
  },
  {
   "cell_type": "code",
   "execution_count": null,
   "metadata": {},
   "outputs": [],
   "source": [
    "# define function\n",
    "fcossin <- function(x) cos(x)-sin(2*x)\n",
    "# plot it\n",
    "curve(fcossin, col=\"red\", xlim=c(0,2*pi),lwd=2, ylab=\"f(x)\",\n",
    "      main=expression(cos(x)-sin(2*x)==0), cex.main=0.8)\n",
    "grid()\n",
    "abline(h=0, col=\"green\", lty=2)\n",
    "\n",
    "# calculate first root in the interval [0,4]\n",
    "zero <- uniroot(fcossin, lower=0, upper=4)\n",
    "print(zero)\n",
    "\n",
    "# plot result\n",
    "points(zero$root, zero$f.root, pch=16, cex=1.5)\n"
   ]
  },
  {
   "cell_type": "markdown",
   "metadata": {},
   "source": [
    "**Warning**: each call to ``uniroot`` only gives the **first** root! You must do as many call as roots you need to find (given the appropriate interval)"
   ]
  },
  {
   "cell_type": "markdown",
   "metadata": {},
   "source": [
    "---\n",
    "---\n",
    "### CLASS EXERCISE: \n",
    "\n",
    "   Look for all the roots in 4 intervals"
   ]
  },
  {
   "cell_type": "markdown",
   "metadata": {},
   "source": [
    "---\n",
    "---"
   ]
  },
  {
   "cell_type": "markdown",
   "metadata": {},
   "source": [
    "## 2. Maxima and minima search (unidimensional case)\n",
    "\n",
    "* If the derivative is easy to calculate, then maxima/minima are the roots of the derivative (derivative=0)\n",
    "* If the function is not unimodal (unique maximum/minimum) it cannot be assured that the maximum/minimum found is a global one\n",
    "* If the derivative cannot be analitically calculated: **``optimize``**: ``optimize$maximum``, ``optimize$minimum``, ``optimize$objective`` (we need to define an interval to search)"
   ]
  },
  {
   "cell_type": "code",
   "execution_count": null,
   "metadata": {},
   "outputs": [],
   "source": [
    "options(repr.plot.width=4, repr.plot.height=4)\n",
    "\n",
    "# Use function above and plot it\n",
    "interval = c(0,pi)\n",
    "interval = c(0,3*pi)\n",
    "curve(fcossin, col=\"red\", xlim=c(0,2*pi), lwd=2, ylab=\"f(x)\",main=expression(cos(x)-sin(2*x)==0))\n",
    "grid()\n",
    "\n",
    "# calculate extreme (by default it is a minimum)\n",
    "extreme <- optimize(fcossin, lower=interval[1], upper=interval[2])\n",
    "points(extreme$minimum, extreme$objective, pch=16, cex=1.5, col=\"blue\")\n",
    "cat(\"Minimum:\\n\")\n",
    "print(extreme)\n",
    "\n",
    "# calculate maximum\n",
    "extreme <- optimize(fcossin, lower=interval[1], upper=interval[2], maximum=TRUE)\n",
    "points(extreme$maximum, extreme$objective, pch=16, cex=1.5, col=\"magenta\") # it is not a global maximum\n",
    "cat(\"Maximum:\\n\")\n",
    "print(extreme)"
   ]
  },
  {
   "cell_type": "markdown",
   "metadata": {},
   "source": [
    "\n",
    "## 3. Fit of unidimensional functions to a straight line (least squares fit)\n",
    "\n",
    "### a) Using ``lm``\n",
    "\n",
    "Let's fit a straight line to a sample of data in the file *hubble_data.txt* (on line platform \"Aula Virtual\").\n",
    "\n",
    "The formula to use in **``lm``** can be:\n",
    "\n",
    "$y \\sim x$ for $ y = ax + b$\n",
    "    \n",
    "$y \\sim x-1$ for $y = ax$\n",
    "\n",
    "$y \\sim 0 + x$ for $y = ax$\n",
    "\n",
    "$y \\sim 1$ for $y = ct$\n",
    "\n",
    "In addition, errors can be taken into account in the fit (```weight``` = 1/var)"
   ]
  },
  {
   "cell_type": "code",
   "execution_count": null,
   "metadata": {},
   "outputs": [],
   "source": [
    "# read data \n",
    "hubble <- read.table(\"hubble_data.txt\", header=TRUE)\n",
    "str(hubble)\n",
    "\n",
    "# plot data\n",
    "plot(hubble, pch=16, col=\"blue\", main=\"Hubble's data (1929)\", \n",
    "     xlab=\"Distance (Mpc)\", ylab=\"Recessional Velocity (km/s)\")\n",
    "grid()\n",
    "\n",
    "# fit to a straight line using lm(..)\n",
    "fit_lm <- lm(hubble$recession.velocity ~ hubble$distance-1) \n",
    "fit_lm\n",
    "summary(fit_lm)\n",
    "# show slope fitted value\n",
    "print(fit_lm$coefficients)\n",
    "#hubble$distance\n",
    "# plot fit line\n",
    "abline(fit_lm, col=\"red\", lwd=2)"
   ]
  },
  {
   "cell_type": "markdown",
   "metadata": {},
   "source": [
    "### b) Alternative: Minimizing distances +  ```optimize```\n",
    "We can have the same result using ``optimize``: create a function (sum of the squares of the distances to the line) that will be minimized and then look for the value of the minimizing slope"
   ]
  },
  {
   "cell_type": "code",
   "execution_count": null,
   "metadata": {},
   "outputs": [],
   "source": [
    "# function to minimize the sum of the distances, squared\n",
    "fun.sum.residuals <- function(slope,x,y) {\n",
    "    output <- sum((y-x*slope)^2)\n",
    "    return(output)\n",
    "}\n",
    "# check slopes in [0,2000]\n",
    "max.slope <- 2000\n",
    "test.slopes <- numeric(max.slope)\n",
    "residuals <- numeric(max.slope)\n",
    "for (i in 1:max.slope) {\n",
    "    test.slopes[i] <- i\n",
    "    residuals[i] <- fun.sum.residuals(test.slopes[i], x=hubble$distance, y=hubble$recession.velocity)\n",
    "}\n",
    "\n",
    "# plot residuals for every value of the slope\n",
    "plot(test.slopes, residuals, type=\"l\", col=\"red\", log=\"y\", \n",
    "     xlab=\"slopes\", ylab=\"function to minimize\")\n",
    "\n",
    "# calculate slope that minimize fun.sum.residuals\n",
    "#        default: maximum=FALSE\n",
    "#        otther remaining parameters needed (no to be minimized): x,y\n",
    "opt <- optimize(fun.sum.residuals, lower=0, upper=1000,  x=hubble$distance, y=hubble$recession.velocity)\n",
    "points(opt$minimum, opt$objective, pch=16, cex=1.5, col=\"red\")\n",
    "cat(\"Minimum slope reached at: \")\n",
    "print(opt$minimum)\n",
    "\n",
    "# plot legend\n",
    "legend(\"topleft\",  paste(\"Res.: Minimum at\",round(opt$minimum,2)),\n",
    "       lty=1,col=c(\"red\",\"blue\"), cex=0.6, bty=\"n\")"
   ]
  },
  {
   "cell_type": "markdown",
   "metadata": {},
   "source": [
    "---\n",
    "---\n",
    "### CLASS EXERCISE: \n",
    "Minimize the absolute value of the sum of the distances (instead of the sum of the squares of the distances) and plot the results in the same plot than the least squares minimization.\n",
    "   "
   ]
  },
  {
   "cell_type": "markdown",
   "metadata": {},
   "source": [
    "---\n",
    "---"
   ]
  },
  {
   "cell_type": "markdown",
   "metadata": {},
   "source": [
    "## 4. Fit to a unidimensional function (multiparametric)\n",
    "To fit a function with more than 1 parameter, we can use the generic function **```optim```**. Warning! Do not confuse with **```optimize```**.\n",
    "\n",
    "- Using this function requires having an initial approximated solution. \n",
    "\n",
    "- **```optim```** can use different methods to estimate the minimum. By default this is Nelder-Mead (1965), which only requires be able to calculate the function in several points (it is a robust method although it can be slow). More sofisticated methods need an evaluation of the function gradient.\n",
    "\n",
    "- We will fit $f(x) = p_1 cos(p_2x) + p_2sin(p_1x)$"
   ]
  },
  {
   "cell_type": "code",
   "execution_count": null,
   "metadata": {},
   "outputs": [],
   "source": [
    "#                        PLOT DATA\n",
    "# read data to be fitted\n",
    "data <- read.table(\"dataOptize.txt\", header=TRUE)\n",
    "xdata <- data[,1]\n",
    "ydata <- data[,2]\n",
    "# have a look at it\n",
    "plot(xdata,ydata,pch=16,col=\"magenta\")\n",
    "\n"
   ]
  },
  {
   "cell_type": "code",
   "execution_count": null,
   "metadata": {},
   "outputs": [],
   "source": [
    "#           PLOT DATA + FUNCTION (with initial guesses)\n",
    "plot(xdata,ydata,pch=16,col=\"magenta\")\n",
    "# initial function to be fitted (note that function returns a vector)\n",
    "funp1p2 <- function(x,p1,p2) {\n",
    "    f <- p1*cos(p2*x)+p2*sin(p1*x)\n",
    "    return(f)\n",
    "}\n",
    "# some starting values + plot function for this selection\n",
    "p1_init = 1.0\n",
    "p2_init = 0.2\n",
    "xp <- seq(min(xdata),max(xdata),length.out=1000)\n",
    "yp <- funp1p2(xp,p1_init,p2_init)\n",
    "lines(xp, yp, col=\"blue\", lty=2)\n",
    "# also with 'curve'\n",
    "# curve(funp1p2(x,p1_init,p2_init), add=TRUE, col=\"blue\", lty=2)"
   ]
  },
  {
   "cell_type": "code",
   "execution_count": null,
   "metadata": {},
   "outputs": [],
   "source": [
    "#                 PLOT DATA AND MINIMIZE FUNCTION\n",
    "#plot(xdata,ydata,pch=16,col=\"magenta\")\n",
    "#lines(xp, yp, col=\"blue\", lty=2)\n",
    "\n",
    "## function to be minimized\n",
    "fun.to.minimize <- function(params,x,y) {\n",
    "    p1 <- params[1]\n",
    "    p2 <- params[2]\n",
    "    output <- sum((y-funp1p2(x,p1,p2))^2)\n",
    "    #yp1p2 <- funp1p2(x,p1,p2)                  # additional line in green\n",
    "    #lines(x, yp1p2, col=\"green\", lwd=1) \n",
    "    return(output)\n",
    "}\n",
    "\n",
    "## using optim(...) to find best fit\n",
    "solution <- optim(c(p1_init,p2_init), fun.to.minimize, x=xdata, y=ydata)\n",
    "new.p1 <- solution$par[1]\n",
    "new.p2 <- solution$par[2]\n",
    "\n",
    "## plot solution\n",
    "#yp <- funp1p2(xp,new.p1,new.p2)\n",
    "#lines(xp, yp, col=\"red\", lwd=2)\n",
    "#legend(\"bottomleft\",c(\"initial guess\",\"final fit\"),lty=c(2,1),col=c(\"blue\",\"red\"),bty='n',cex=0.8)\n",
    "#print(solution)\n"
   ]
  },
  {
   "cell_type": "markdown",
   "metadata": {},
   "source": [
    "![No image, sorry](optim_movie.gif)"
   ]
  },
  {
   "cell_type": "markdown",
   "metadata": {},
   "source": [
    "---\n",
    "---\n",
    "### CLASS EXERCISE: \n",
    "\n",
    "- Fit Hubble data to a line using optim (not adequate - 1 dim-, but possible)"
   ]
  },
  {
   "cell_type": "markdown",
   "metadata": {},
   "source": [
    "## ---\n",
    "---\n",
    "### CLASS EXERCISE: fit to ~Gaussian line\n",
    "\n",
    "1. Create 40 points between 3.4 and 5.2 following a Gaussian density curve (mean=4.27, sigma=0.34)\n",
    "\n",
    "2. Move points \"y\" value a random quantity between -20% and 20% (uniform)\n",
    "\n",
    "3. Give them an error = sqrt(y)/10\n",
    "\n",
    "4. Plot points (with error bars) and the \"theoretical\" initial curve from which points are derived\n",
    "\n",
    "5. Fit a gaussian minimizing $\\chi^2$\n",
    "\n",
    "6. Add fit plot"
   ]
  },
  {
   "cell_type": "code",
   "execution_count": null,
   "metadata": {},
   "outputs": [],
   "source": [
    "#install.packages(\"Hmisc\")\n",
    "library(Hmisc)\n",
    "\n",
    "# Create 40 points between 3.4 and 5.2 following a Gaussian density curve (mean=4.27, sigma=0.34)\n",
    "xdata <- seq(3.4,5.2,length.out=40)\n",
    "ydata0 <- dnorm(xdata,mean=4.27,sd=0.34)\n",
    "\n",
    "# Move points \"y\" value a random quantity between -20% and 20% (uniform)\n",
    "rn <- runif(length(xdata),min=-0.2,max=0.2)\n",
    "ydata <- (1 + rn) * ydata0\n",
    "\n",
    "erry <- sqrt(ydata)/15\n",
    "# Plot points (with error bars) and the \"theoretical\" initial curve from which points are derived\n",
    "errbar(x=xdata,y=ydata,yplus=ydata+erry, yminus=ydata-erry)\n",
    "curve(dnorm(x,mean=4.27,sd=0.34), col=\"green\", add=T) # theoretical curve\n",
    "\n",
    "# "
   ]
  },
  {
   "cell_type": "markdown",
   "metadata": {},
   "source": [
    "## Example: Fitting a polynomial to the data with optim"
   ]
  },
  {
   "cell_type": "code",
   "execution_count": null,
   "metadata": {},
   "outputs": [],
   "source": [
    "options(repr.plot.width=4, repr.plot.height=4)\n",
    "x <- 0:10\n",
    "y <- c(2,5,4,6,7,9,11,15,20,25,30)\n",
    "\n",
    "plot(x,y)"
   ]
  },
  {
   "cell_type": "code",
   "execution_count": null,
   "metadata": {},
   "outputs": [],
   "source": [
    "fun.to.fit <- function(x, a, b,c){\n",
    "    a + b*x + c*x^2 \n",
    "}\n",
    "\n",
    "fun.to.minimize <- function(coefs,x,y){\n",
    "    a <- coefs[1]\n",
    "    b <- coefs[2]\n",
    "    c <- coefs[3]\n",
    "    out <- sum((y-fun.to.fit(x,a,b,c))^2)\n",
    "}"
   ]
  },
  {
   "cell_type": "code",
   "execution_count": null,
   "metadata": {},
   "outputs": [],
   "source": [
    "a0 <- 1\n",
    "b0 <- 1\n",
    "c0 <- 1\n",
    "fit_optim <- optim(c(a0,b0,c0), fun.to.minimize, x=x, y=y)\n",
    "afit <- fit_optim$par[1]\n",
    "bfit <- fit_optim$par[2]\n",
    "cfit <- fit_optim$par[3]\n",
    "fit_optim$par\n",
    "fit_lm <- lm(y~poly(x,2,raw=TRUE)) \n",
    "fit_lm$coefficients\n",
    "help(optim)"
   ]
  },
  {
   "cell_type": "code",
   "execution_count": null,
   "metadata": {},
   "outputs": [],
   "source": [
    "plot(x,y)\n",
    "curve(fun.to.fit(x,afit,bfit,cfit),add=TRUE, col='blue',lty=2)\n",
    "lines(x,predict(fit_lm,data.frame(x=x)),col=\"red\", lty=6)\n",
    "legend(\"topleft\", c(\"OPTIM\", \"LM\"), lty=c(2,6), col=c(\"blue\",\"red\"), cex=0.8, bty='n')"
   ]
  },
  {
   "cell_type": "code",
   "execution_count": null,
   "metadata": {},
   "outputs": [],
   "source": []
  }
 ],
 "metadata": {
  "kernelspec": {
   "display_name": "R",
   "language": "R",
   "name": "ir"
  },
  "language_info": {
   "codemirror_mode": "r",
   "file_extension": ".r",
   "mimetype": "text/x-r-source",
   "name": "R",
   "pygments_lexer": "r",
   "version": "3.6.1"
  },
  "toc": {
   "base_numbering": 1,
   "nav_menu": {},
   "number_sections": true,
   "sideBar": true,
   "skip_h1_title": false,
   "title_cell": "Table of Contents",
   "title_sidebar": "Contents",
   "toc_cell": false,
   "toc_position": {},
   "toc_section_display": true,
   "toc_window_display": false
  },
  "varInspector": {
   "cols": {
    "lenName": 16,
    "lenType": 16,
    "lenVar": 40
   },
   "kernels_config": {
    "python": {
     "delete_cmd_postfix": "",
     "delete_cmd_prefix": "del ",
     "library": "var_list.py",
     "varRefreshCmd": "print(var_dic_list())"
    },
    "r": {
     "delete_cmd_postfix": ") ",
     "delete_cmd_prefix": "rm(",
     "library": "var_list.r",
     "varRefreshCmd": "cat(var_dic_list()) "
    }
   },
   "types_to_exclude": [
    "module",
    "function",
    "builtin_function_or_method",
    "instance",
    "_Feature"
   ],
   "window_display": false
  }
 },
 "nbformat": 4,
 "nbformat_minor": 4
}

