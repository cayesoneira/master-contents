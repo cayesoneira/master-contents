{
 "cells": [
  {
   "cell_type": "code",
   "execution_count": 10,
   "id": "a51201f2-c3f8-4f81-96a9-52cd36bd5548",
   "metadata": {},
   "outputs": [
    {
     "name": "stdout",
     "output_type": "stream",
     "text": [
      "Reinitialized existing Git repository in /home/jovyan/Mounted/Extragalactic Astrophysics/N-body problem/.git/\n"
     ]
    }
   ],
   "source": [
    "git init"
   ]
  },
  {
   "cell_type": "code",
   "execution_count": 11,
   "id": "6782d243-fbfa-44d0-a745-dab0be949ff5",
   "metadata": {},
   "outputs": [
    {
     "name": "stdout",
     "output_type": "stream",
     "text": [
      "On branch master\n",
      "\n",
      "No commits yet\n",
      "\n",
      "Untracked files:\n",
      "  (use \"git add <file>...\" to include in what will be committed)\n",
      "\t.ipynb_checkpoints/\n",
      "\tImporting_Git.ipynb\n",
      "\n",
      "nothing added to commit but untracked files present (use \"git add\" to track)\n"
     ]
    }
   ],
   "source": [
    "git status"
   ]
  },
  {
   "cell_type": "code",
   "execution_count": 12,
   "id": "269dee7f-3707-4667-8a2c-b7b4a7d71d00",
   "metadata": {},
   "outputs": [
    {
     "name": "stdout",
     "output_type": "stream",
     "text": [
      "Cloning into 'nbody-python'...\n",
      "remote: Enumerating objects: 9, done.        \n",
      "remote: Counting objects: 100% (9/9), done.        \n",
      "remote: Compressing objects: 100% (8/8), done.        \n",
      "remote: Total 9 (delta 0), reused 5 (delta 0), pack-reused 0        \n",
      "Receiving objects: 100% (9/9), 97.00 KiB | 1.08 MiB/s, done.\n"
     ]
    }
   ],
   "source": [
    "git clone https://github.com/pmocz/nbody-python.git"
   ]
  },
  {
   "cell_type": "code",
   "execution_count": null,
   "id": "ffdd55a5-0876-4253-b821-cf5c96447cf2",
   "metadata": {},
   "outputs": [],
   "source": []
  }
 ],
 "metadata": {
  "kernelspec": {
   "display_name": "Bash",
   "language": "bash",
   "name": "bash"
  },
  "language_info": {
   "codemirror_mode": "shell",
   "file_extension": ".sh",
   "mimetype": "text/x-sh",
   "name": "bash"
  }
 },
 "nbformat": 4,
 "nbformat_minor": 5
}
