{
 "cells": [
  {
   "cell_type": "markdown",
   "id": "053d06a7-4e1c-43d1-b4eb-669fd9e0b801",
   "metadata": {},
   "source": [
    "## 1. To clean CMD.dat:"
   ]
  },
  {
   "cell_type": "code",
   "execution_count": 3,
   "id": "0ab6674f-9a5e-48c8-b115-e9d37e779617",
   "metadata": {},
   "outputs": [],
   "source": [
    "cp CMD.dat 'New_CMD.dat'\n",
    "cat New_CMD.dat | awk 'NR >= 21' | sed -e 's/ \\{14,\\}/ <NA> <NA> /g' | tr -s ' ' | grep -v '<NA>' | awk '{$1=$1};1'> Clean_CMD.dat"
   ]
  },
  {
   "cell_type": "markdown",
   "id": "1dbfab14-57df-4845-9f0e-a4108f9c4791",
   "metadata": {},
   "source": [
    "## 2. To clean variable.txt:"
   ]
  },
  {
   "cell_type": "code",
   "execution_count": 4,
   "id": "56e4f5b4-800e-492d-ba49-7d0aef267dc2",
   "metadata": {},
   "outputs": [],
   "source": [
    "cp variable.txt 'New_variable.txt'\n",
    "cat variable.txt | grep -v 'c' | sed -e 's/\\t/ /g' | tr -s ' ' > Clean_variables.dat"
   ]
  },
  {
   "cell_type": "markdown",
   "id": "8c7c9875-2445-48f9-81bd-01342156f323",
   "metadata": {},
   "source": [
    "## 3. To clean the final.txt:"
   ]
  },
  {
   "cell_type": "code",
   "execution_count": 10,
   "id": "bb536512-ad29-4ab7-9fd3-0fc2135da146",
   "metadata": {},
   "outputs": [],
   "source": [
    "cat final.txt | grep -v '000000000000000000' | grep -v 'nan' | tr -s '\\t' > Clean_final.dat"
   ]
  },
  {
   "cell_type": "markdown",
   "id": "843c3237-ddd0-466a-b306-cfe9bd52983b",
   "metadata": {},
   "source": [
    "## 4. To clean ISOCHRON.tsv"
   ]
  },
  {
   "cell_type": "code",
   "execution_count": 11,
   "id": "6de74662-89f0-476f-9614-40dc1717ed87",
   "metadata": {},
   "outputs": [],
   "source": [
    "cat ISOCHRON.tsv | awk 'NR >= 50' | tr -s ' ' | sed 's/^ *//g'> Clean_Iso.dat"
   ]
  },
  {
   "cell_type": "markdown",
   "id": "8e617047-1dce-4e99-9ae8-bf38eef5d813",
   "metadata": {},
   "source": [
    "(1) Select Z=0.0004, ages=10, 12.6, and 15.9 Gyr"
   ]
  },
  {
   "cell_type": "code",
   "execution_count": 12,
   "id": "5d6fbea2-a326-4faa-99f5-397032a5b950",
   "metadata": {},
   "outputs": [],
   "source": [
    "cat Clean_Iso.dat | grep '0.0004' | grep -e '1.00e+08' -e '1.26e+08' -e '1.58e+08' > 1_Iso.dat"
   ]
  },
  {
   "cell_type": "markdown",
   "id": "dce9361a-3350-4330-8cef-483eff078bd2",
   "metadata": {},
   "source": [
    "(2) Select Z=0.0004, age = 5.01 Gyr"
   ]
  },
  {
   "cell_type": "code",
   "execution_count": 13,
   "id": "bc0dae9b-7be1-4d7a-b001-37c5d9b77943",
   "metadata": {},
   "outputs": [],
   "source": [
    "cat Clean_Iso.dat | grep '0.0004' | grep '5.01e+08' > 2_Iso.dat"
   ]
  },
  {
   "cell_type": "markdown",
   "id": "4aa73ada-45fb-432b-a12e-4ef10a4d92e1",
   "metadata": {},
   "source": [
    "(3) Select Z = 0.004, age = 12.6 Gyr"
   ]
  },
  {
   "cell_type": "code",
   "execution_count": 14,
   "id": "ee178392-7b10-42cc-ba66-f853f3f156ce",
   "metadata": {},
   "outputs": [],
   "source": [
    "cat Clean_Iso.dat | grep '0.004' | grep '1.26e+08' > 3_Iso.dat"
   ]
  },
  {
   "cell_type": "markdown",
   "id": "4aa21998-b8a8-4aa9-b841-af7390fde566",
   "metadata": {
    "tags": []
   },
   "source": [
    "## References\n",
    "- https://stackoverflow.com/questions/6491532/how-to-subset-a-file-select-a-numbers-of-rows-or-columns\n",
    "- hey"
   ]
  }
 ],
 "metadata": {
  "kernelspec": {
   "display_name": "Bash",
   "language": "bash",
   "name": "bash"
  },
  "language_info": {
   "codemirror_mode": "shell",
   "file_extension": ".sh",
   "mimetype": "text/x-sh",
   "name": "bash"
  }
 },
 "nbformat": 4,
 "nbformat_minor": 5
}
