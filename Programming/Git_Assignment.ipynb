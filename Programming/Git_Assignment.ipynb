{
 "cells": [
  {
   "cell_type": "markdown",
   "id": "c85ce4f8-8001-4ca5-be72-80ddb062a881",
   "metadata": {},
   "source": [
    "# Final assignment (to execute with Bash Kernel):\n",
    "1. Fork https://github.com/yoselita/lyrics and clone it to your local machine.\n",
    "2. Enter the folder named lyrics that will be locally created after cloning the remote repository.\n",
    "3. In the lyrics folder create a new folder named Firstname_Lastname (e.g. Javier_Bardem).\n",
    "4. Copy lyrics/lyrics_template.txt into your Firstname_Lastname folder.\n",
    "5. Rename lyrics_template.txt in your folder after your favorite music band (i.e. [your_favorite_band].txt).\n",
    "6. Stage and commit all the changes made in your local repository.\n",
    "7. Pull the changes from the forked remote repository, check the available remotes and push the changes from you local master (or main) branch to the remote repository forked to your account.\n",
    "8. Return to the local repository and create a new branch named \"new_branch\" and move to the new_branch.\n",
    "9. While on the new_branch, open your [your_favorite_band].txt file and write the song lyrics where in the file where indicated.\n",
    "10. Stage and commit the new changes.\n",
    "11. Now return to the master (or main) branch, and merge the branch new_branch to master.\n",
    "12. Open the [your_favorite_band].txt file and write the title of your favorite song from your favorite band.\n",
    "13. Stage and commit the new changes.\n",
    "14. Pull the changes from the forked remote repository to master, check the available remotes, and push the changes from you local master (or main) branch to the remote repository forked to your account.\n",
    "15. Go to the new_branch, pull and push the new_branch to the remote repository forked to your account as well.\n",
    "16. Check if both branches, master(or main) and new_branch, are now available online and if they both have [your_favorite_band].txt file.\n",
    "17. Create a pull request in your forked repository in order to merge master branch of https://github.com/[your_user]/lyrics (i.e. forked remote) to https://github.com/yoselita/lyrics (i.e. upstream remote).\n",
    "18. Avoid using emails if conflicts pop up, report it in the corresponding topic in the Moodle Forum."
   ]
  },
  {
   "cell_type": "markdown",
   "id": "09a72b11-3879-4738-ba34-b4ecf86a2ec7",
   "metadata": {},
   "source": [
    "**Important**: be consistent with the working directory. In case there are files already, clean them:"
   ]
  },
  {
   "cell_type": "code",
   "execution_count": 1,
   "id": "a03dbd72-250e-49ab-8dbd-44859f466c8e",
   "metadata": {},
   "outputs": [],
   "source": [
    "cd /home/jovyan/Mounted/Programming/Git/introduction-to-git-main"
   ]
  },
  {
   "cell_type": "markdown",
   "id": "c9555676-f71f-4015-a439-eeda42257b92",
   "metadata": {},
   "source": [
    "## 1. Fork https://github.com/yoselita/lyrics and clone it to your local machine."
   ]
  },
  {
   "cell_type": "markdown",
   "id": "5a14cdab-69cc-4c47-9f7e-14bb0789f0ff",
   "metadata": {},
   "source": [
    "Follow the link, log in with a GitHub account and select *Fork* up in the right.\n",
    "\n",
    "Use the following sentence:"
   ]
  },
  {
   "cell_type": "code",
   "execution_count": 2,
   "id": "2f1e1d26-deb3-4a84-a801-3361aa43ccea",
   "metadata": {},
   "outputs": [
    {
     "name": "stdout",
     "output_type": "stream",
     "text": [
      "Cloning into 'lyrics'...\n",
      "remote: Enumerating objects: 107, done.        \n",
      "remote: Counting objects: 100% (3/3), done.        \n",
      "remote: Compressing objects: 100% (3/3), done.        \n",
      "remote: Total 107 (delta 0), reused 3 (delta 0), pack-reused 104        \n",
      "Receiving objects: 100% (107/107), 20.74 KiB | 493.00 KiB/s, done.\n",
      "Resolving deltas: 100% (9/9), done.\n"
     ]
    }
   ],
   "source": [
    "git clone https://github.com/cayesoneira/lyrics.git"
   ]
  },
  {
   "cell_type": "markdown",
   "id": "f15c49ae-6b6a-4358-821a-cdd82c701514",
   "metadata": {},
   "source": [
    "## 2. Enter the folder named lyrics that will be locally created after cloning the remote repository."
   ]
  },
  {
   "cell_type": "code",
   "execution_count": 3,
   "id": "7f0d4590-7779-4325-ad1b-6c0acb43e51b",
   "metadata": {},
   "outputs": [
    {
     "name": "stdout",
     "output_type": "stream",
     "text": [
      "Reinitialized existing Git repository in /home/jovyan/Mounted/Programming/Git/introduction-to-git-main/lyrics/.git/\n"
     ]
    }
   ],
   "source": [
    "cd lyrics\n",
    "git init"
   ]
  },
  {
   "cell_type": "code",
   "execution_count": 4,
   "id": "1ce731f1-c76b-42c5-a5c2-bbe4ed5ab765",
   "metadata": {},
   "outputs": [
    {
     "name": "stdout",
     "output_type": "stream",
     "text": [
      ".git  lyrics_template.txt  README.md\n"
     ]
    }
   ],
   "source": [
    "ls -A"
   ]
  },
  {
   "cell_type": "markdown",
   "id": "9e694ed1-58e5-480e-8bbd-d5d20acd2841",
   "metadata": {},
   "source": [
    "## 3. In the lyrics folder create a new folder and name it after your Firstname_Lastname (for example Javier_Bardem)."
   ]
  },
  {
   "cell_type": "code",
   "execution_count": 5,
   "id": "decedeec-282b-40b5-9f08-22b1c5b1d8d6",
   "metadata": {},
   "outputs": [],
   "source": [
    "mkdir Cayetano_Soneira"
   ]
  },
  {
   "cell_type": "markdown",
   "id": "6ebfe055-c78d-4404-ad9a-887c7fbcc371",
   "metadata": {},
   "source": [
    "## 4. Copy lyrics_template.txt into your folder."
   ]
  },
  {
   "cell_type": "code",
   "execution_count": 6,
   "id": "8ac0d6e6-0811-4436-a364-d3516ce15989",
   "metadata": {},
   "outputs": [],
   "source": [
    "cp lyrics_template.txt Cayetano_Soneira/"
   ]
  },
  {
   "cell_type": "markdown",
   "id": "7174884d-a1ee-4f86-afb2-0d7a50c7980f",
   "metadata": {},
   "source": [
    "## 5. Rename lyrics_template.txt after your favorite music band."
   ]
  },
  {
   "cell_type": "code",
   "execution_count": 7,
   "id": "ecb33c6b-fcc7-47ea-8ad0-1f584876fc97",
   "metadata": {},
   "outputs": [],
   "source": [
    "mv Cayetano_Soneira/lyrics_template.txt Cayetano_Soneira/Radiohead.txt "
   ]
  },
  {
   "cell_type": "markdown",
   "id": "93af2889-fe0a-4653-a24e-1d7b3a3c5d60",
   "metadata": {},
   "source": [
    "## 6. Stage and commit changes in your local repository."
   ]
  },
  {
   "cell_type": "code",
   "execution_count": 8,
   "id": "315469e5-c7c8-4fbf-a022-1bd087b42b1f",
   "metadata": {},
   "outputs": [
    {
     "name": "stdout",
     "output_type": "stream",
     "text": [
      "On branch main\n",
      "Your branch is up to date with 'origin/main'.\n",
      "\n",
      "Changes to be committed:\n",
      "  (use \"git restore --staged <file>...\" to unstage)\n",
      "\tnew file:   Cayetano_Soneira/Radiohead.txt\n",
      "\n"
     ]
    }
   ],
   "source": [
    "git add Cayetano_Soneira/\n",
    "git status"
   ]
  },
  {
   "cell_type": "code",
   "execution_count": 9,
   "id": "2634593f-ec5b-40a5-ab1d-1aec1a0e786d",
   "metadata": {},
   "outputs": [
    {
     "name": "stdout",
     "output_type": "stream",
     "text": [
      "core.repositoryformatversion=0\n",
      "core.filemode=true\n",
      "core.bare=false\n",
      "core.logallrefupdates=true\n",
      "core.editor=vim\n",
      "remote.origin.url=https://github.com/cayesoneira/lyrics.git\n",
      "remote.origin.fetch=+refs/heads/*:refs/remotes/origin/*\n",
      "branch.main.remote=origin\n",
      "branch.main.merge=refs/heads/main\n",
      "user.name=cayesoneira\n",
      "user.email=csl109@alumnos.unican.es\n"
     ]
    }
   ],
   "source": [
    "git config user.name \"cayesoneira\"\n",
    "git config user.email \"csl109@alumnos.unican.es\"\n",
    "git config core.editor \"vim\"\n",
    "\n",
    "git config --list"
   ]
  },
  {
   "cell_type": "code",
   "execution_count": 10,
   "id": "e8b43c8e-4b4b-4ad9-8e8b-76775acf83be",
   "metadata": {},
   "outputs": [
    {
     "name": "stdout",
     "output_type": "stream",
     "text": [
      "[main 01199e9] Add Cayetano_Soneira directory and copy and rename the lyrics file\n",
      " 1 file changed, 7 insertions(+)\n",
      " create mode 100644 Cayetano_Soneira/Radiohead.txt\n"
     ]
    }
   ],
   "source": [
    "git commit -m 'Add Cayetano_Soneira directory and copy and rename the lyrics file'"
   ]
  },
  {
   "cell_type": "markdown",
   "id": "f2abc540-6480-4670-a035-a7af04f665bb",
   "metadata": {},
   "source": [
    "## 7. Pull the changes from the forked remote repository, check the available remotes and push the changes from you local master (or main) branch to the remote repository forked to your account."
   ]
  },
  {
   "cell_type": "markdown",
   "id": "4849d198-03c2-47cb-bc40-b77c9454358b",
   "metadata": {},
   "source": [
    "### SSH Authorization Key Setup\n",
    "There are several ways to access a repository in GitHub:*https* protocol, *SSH* and *GitHub CLI* (needs installation). We are going to use the *SSH*. To do that, in a few words, we need to create and download a key that our computer will keep. Then we go to our GitHub account and set what key a PC would need to edit our repositories. Once this is done, we can *pull* in our account directly from terminal."
   ]
  },
  {
   "cell_type": "markdown",
   "id": "a17885a4-0e39-4789-bd03-cbdabf8e1a19",
   "metadata": {},
   "source": [
    "**The tutorial is as follows:**\n",
    "- Check if SSH is set on your machine:\n",
    "        \n",
    "        ls -al ~/.ssh\n",
    "        \n",
    "- If empty execute and follow the instructions, and for each prompt press enter (and write nothing):\n",
    "\n",
    "        ssh-keygen -t rsa -b 4096 -C your_email@example.com\n",
    "        \n",
    "- Check again if SSH is set:\n",
    "\n",
    "        ls -al ~/.ssh\n",
    "        \n",
    "- 2 files should be listed: \n",
    "        \n",
    "        id_rsa\n",
    "        id_rsa.pub\n",
    "        \n",
    "- Access `id_rsa.pub` in `home/<user>/.ssh` with `cat` and copy the long key: it begins with sha(...) and ends with a mail address: `cat /home/cayesoneira/.ssh/id_rsa.pub`.\n",
    "- Now go to your GitHub account\n",
    "- Click on your profile icon in the top right corner to get the drop-down menu. \n",
    "- Click “Settings,” then on the settings page, click “SSH and GPG keys,” on the left side “Account settings” menu. \n",
    "- Click the “New SSH key” button on the right side. \n",
    "- Add some recognizable title, paste your SSH key into the field, and click the “Add SSH key” to complete the setup.\n",
    "- All set. Check your authentication from the command line:\n",
    "\n",
    "        ssh -T git@github.com\n",
    "        \n",
    "- You will receive a confirmation message. You can continue with the creation of the remote."
   ]
  },
  {
   "cell_type": "code",
   "execution_count": 11,
   "id": "42722906-05da-41ab-837c-2c16bf3a0b7d",
   "metadata": {},
   "outputs": [
    {
     "name": "stdout",
     "output_type": "stream",
     "text": [
      "From github.com:cayesoneira/lyrics\n",
      " * branch            main       -> FETCH_HEAD\n",
      "Already up to date.\n"
     ]
    }
   ],
   "source": [
    "git remote set-url origin git@github.com:cayesoneira/lyrics.git\n",
    "git pull git@github.com:cayesoneira/lyrics.git main"
   ]
  },
  {
   "cell_type": "markdown",
   "id": "66de072b-aad6-4200-a901-c0f4a71b3d92",
   "metadata": {},
   "source": [
    "### We check the available remotes."
   ]
  },
  {
   "cell_type": "code",
   "execution_count": 12,
   "id": "fa3a094a-deb5-4f7c-88f3-dab6a9cc3546",
   "metadata": {},
   "outputs": [
    {
     "name": "stdout",
     "output_type": "stream",
     "text": [
      "origin\tgit@github.com:cayesoneira/lyrics.git (fetch)\n",
      "origin\tgit@github.com:cayesoneira/lyrics.git (push)\n"
     ]
    }
   ],
   "source": [
    "git remote -v"
   ]
  },
  {
   "cell_type": "markdown",
   "id": "ed4ecce4-2d6e-4064-aab5-c92c6479c4b5",
   "metadata": {},
   "source": [
    "### Push the changes made locally back to the remote repository forked to your account."
   ]
  },
  {
   "cell_type": "code",
   "execution_count": 13,
   "id": "ae5ed7d5-aa3d-4c4c-b340-6f0acac9e2da",
   "metadata": {},
   "outputs": [
    {
     "name": "stdout",
     "output_type": "stream",
     "text": [
      "Enumerating objects: 4, done.\n",
      "Counting objects: 100% (4/4), done.\n",
      "Delta compression using up to 4 threads\n",
      "Compressing objects: 100% (2/2), done.\n",
      "Writing objects: 100% (3/3), 412 bytes | 412.00 KiB/s, done.\n",
      "Total 3 (delta 0), reused 0 (delta 0), pack-reused 0\n",
      "To github.com:cayesoneira/lyrics.git\n",
      "   0963d56..01199e9  main -> main\n"
     ]
    }
   ],
   "source": [
    "git push git@github.com:cayesoneira/lyrics.git main"
   ]
  },
  {
   "cell_type": "markdown",
   "id": "1cbcba5d-ce66-4d3e-ba57-0cd14af830b8",
   "metadata": {},
   "source": [
    "## 8. Return to the local repository and create a new branch named \"new_branch\" and move to the new_branch."
   ]
  },
  {
   "cell_type": "code",
   "execution_count": 14,
   "id": "e134a9fd-fc1a-42c6-afb8-c5a206703ddf",
   "metadata": {},
   "outputs": [],
   "source": [
    "git branch new_branch"
   ]
  },
  {
   "cell_type": "code",
   "execution_count": 15,
   "id": "a8020763-f1bc-4397-8e0c-994b306954b6",
   "metadata": {},
   "outputs": [
    {
     "name": "stdout",
     "output_type": "stream",
     "text": [
      "Switched to branch 'new_branch'\n"
     ]
    }
   ],
   "source": [
    "git checkout new_branch"
   ]
  },
  {
   "cell_type": "code",
   "execution_count": 16,
   "id": "09fd847d-2a6f-48f7-98a2-00023938ac6f",
   "metadata": {},
   "outputs": [
    {
     "name": "stdout",
     "output_type": "stream",
     "text": [
      "  main\n",
      "* new_branch\n"
     ]
    }
   ],
   "source": [
    "git branch"
   ]
  },
  {
   "cell_type": "markdown",
   "id": "48fe3125-dd49-4163-9b77-8fd0e0adc964",
   "metadata": {},
   "source": [
    "## 9. While on the new_branch, open your [your_favorite_band].txt file and write the song lyrics where in the file where indicated."
   ]
  },
  {
   "cell_type": "code",
   "execution_count": 36,
   "id": "3b6769ec-68ec-4b78-876a-13a61a3af1b4",
   "metadata": {},
   "outputs": [],
   "source": [
    "sed -i 's/Lyrics/Reckoner\\nYou cant take it with you\\nDancing for your pleasure\\nYou are not to blame for\\nBittersweet distractors\\nDare not speak its name\\nDedicated to all hu-\\nAll human beings\\nBecause we separate\\nLike ripples on a blank shore\\n(In rainbows)\\nBecause we separate\\nLike ripples on a blank shore\\n(In rainbows)\\nReckoner\\nTake me with you\\nDedicated to all hu-\\nAll human beings/' Cayetano_Soneira/Radiohead.txt"
   ]
  },
  {
   "cell_type": "markdown",
   "id": "c01e821a-a90e-445e-8480-6e08e83fa982",
   "metadata": {},
   "source": [
    "## 11. Go to the master branch, and merge  new_branch."
   ]
  },
  {
   "cell_type": "code",
   "execution_count": 37,
   "id": "6e54f016-1c37-4fdc-803f-da5d8887ba08",
   "metadata": {},
   "outputs": [
    {
     "name": "stdout",
     "output_type": "stream",
     "text": [
      "M\tCayetano_Soneira/Radiohead.txt\n",
      "Switched to branch 'main'\n",
      "Your branch is ahead of 'origin/main' by 1 commit.\n",
      "  (use \"git push\" to publish your local commits)\n"
     ]
    }
   ],
   "source": [
    "git checkout main"
   ]
  },
  {
   "cell_type": "code",
   "execution_count": 38,
   "id": "58407c7f-f26b-4640-816b-2517e0639357",
   "metadata": {},
   "outputs": [
    {
     "name": "stdout",
     "output_type": "stream",
     "text": [
      "Already up to date.\n"
     ]
    }
   ],
   "source": [
    "git merge --no-edit new_branch"
   ]
  },
  {
   "cell_type": "markdown",
   "id": "db02b30d-c4c8-43dc-8ea3-270a1d1eeb2b",
   "metadata": {
    "tags": []
   },
   "source": [
    "## 12. Open the [your_favorite_band].txt file and write the title of your favorite song from your favorite band."
   ]
  },
  {
   "cell_type": "code",
   "execution_count": 39,
   "id": "4badd6e3-718b-4008-9265-62641142427e",
   "metadata": {},
   "outputs": [],
   "source": [
    "sed -i 's/insert\\stitle\\shere/Reckoner/g' Cayetano_Soneira/Radiohead.txt"
   ]
  },
  {
   "cell_type": "markdown",
   "id": "ec29696f-9f0c-4876-9b29-5678af50b9f1",
   "metadata": {},
   "source": [
    "## 13. Stage and commit the new changes."
   ]
  },
  {
   "cell_type": "code",
   "execution_count": 40,
   "id": "0d6f0b31-2642-4a27-b6da-48ed7dd1143d",
   "metadata": {},
   "outputs": [
    {
     "name": "stdout",
     "output_type": "stream",
     "text": [
      "[main ddbcd23] Add lyrics and titles to the song\n",
      " 1 file changed, 24 insertions(+), 7 deletions(-)\n",
      " rewrite Cayetano_Soneira/Radiohead.txt (65%)\n"
     ]
    }
   ],
   "source": [
    "git add Cayetano_Soneira/Radiohead.txt\n",
    "git commit -m 'Add lyrics and titles to the song'"
   ]
  },
  {
   "cell_type": "markdown",
   "id": "8169179a-fbe3-45b7-bfd8-585e52b33339",
   "metadata": {},
   "source": [
    "## 14. Pull the changes from the forked remote repository to master, check the available remotes, and push the changes from you local master (or main) branch to the remote repository forked to your account."
   ]
  },
  {
   "cell_type": "code",
   "execution_count": 41,
   "id": "085ac1d0-1698-415d-b492-b897835d1dce",
   "metadata": {},
   "outputs": [
    {
     "name": "stdout",
     "output_type": "stream",
     "text": [
      "From github.com:cayesoneira/lyrics\n",
      " * branch            main       -> FETCH_HEAD\n",
      "Already up to date.\n"
     ]
    }
   ],
   "source": [
    "git remote set-url origin git@github.com:cayesoneira/lyrics.git\n",
    "git pull git@github.com:cayesoneira/lyrics.git main"
   ]
  },
  {
   "cell_type": "markdown",
   "id": "24197e72-c7fa-4883-befc-51dd2b03c603",
   "metadata": {},
   "source": [
    "### We check the available remotes."
   ]
  },
  {
   "cell_type": "code",
   "execution_count": 42,
   "id": "6bc52e40-e041-486a-a647-f040867d0c93",
   "metadata": {},
   "outputs": [
    {
     "name": "stdout",
     "output_type": "stream",
     "text": [
      "origin\tgit@github.com:cayesoneira/lyrics.git (fetch)\n",
      "origin\tgit@github.com:cayesoneira/lyrics.git (push)\n"
     ]
    }
   ],
   "source": [
    "git remote -v"
   ]
  },
  {
   "cell_type": "markdown",
   "id": "3e44b4ec-2d81-4eeb-b211-8fad43d45dc9",
   "metadata": {},
   "source": [
    "### We push the changes made locally back to the remote repository forked to your account."
   ]
  },
  {
   "cell_type": "code",
   "execution_count": 46,
   "id": "c5cfbc91-8207-40ed-83b6-f9e3f2064ee7",
   "metadata": {},
   "outputs": [
    {
     "name": "stdout",
     "output_type": "stream",
     "text": [
      "Enumerating objects: 7, done.\n",
      "Counting objects: 100% (7/7), done.\n",
      "Delta compression using up to 4 threads\n",
      "Compressing objects: 100% (3/3), done.\n",
      "Writing objects: 100% (4/4), 606 bytes | 202.00 KiB/s, done.\n",
      "Total 4 (delta 0), reused 0 (delta 0), pack-reused 0\n",
      "To github.com:cayesoneira/lyrics.git\n",
      "   01199e9..ddbcd23  main -> main\n"
     ]
    }
   ],
   "source": [
    "git push git@github.com:cayesoneira/lyrics.git main"
   ]
  },
  {
   "cell_type": "markdown",
   "id": "c5f20e88-cb7f-41e0-a31b-1a6d37b7b186",
   "metadata": {},
   "source": [
    "## 15. Go to the new_branch, pull and push the new_branch to the remote repository forked to your account as well."
   ]
  },
  {
   "cell_type": "code",
   "execution_count": 45,
   "id": "5d1cbd33-8e1f-4841-bded-23ac5a0f7bd5",
   "metadata": {},
   "outputs": [
    {
     "name": "stdout",
     "output_type": "stream",
     "text": [
      "Already on 'new_branch'\n",
      "  main\n",
      "* new_branch\n",
      "From github.com:cayesoneira/lyrics\n",
      " * branch            new_branch -> FETCH_HEAD\n",
      "Already up to date.\n",
      "Everything up-to-date\n"
     ]
    }
   ],
   "source": [
    "git checkout new_branch\n",
    "git branch\n",
    "git pull git@github.com:cayesoneira/lyrics.git new_branch\n",
    "git push git@github.com:cayesoneira/lyrics.git new_branch"
   ]
  },
  {
   "cell_type": "markdown",
   "id": "99dddfbe-7672-45f5-a6f7-d5210fe5041c",
   "metadata": {},
   "source": [
    "\n",
    "\n",
    "## 16. Check if both branches, master(or main) and new_branch, are now available online and if they both have [your_favorite_band].txt file."
   ]
  },
  {
   "cell_type": "markdown",
   "id": "1507047f-a377-46fc-bb37-1474f9ee2f1d",
   "metadata": {},
   "source": [
    "It is pulled as we wanted: https://github.com/cayesoneira/lyrics"
   ]
  },
  {
   "cell_type": "markdown",
   "id": "4c75d4ce-f42c-4b62-863e-420952cf2024",
   "metadata": {},
   "source": [
    "## 17. Create a pull request in your forked repository in order to merge master branch of https://github.com/[your_user]/lyrics (i.e. forked remote) to https://github.com/yoselita/lyrics (i.e. upstream remote)."
   ]
  },
  {
   "cell_type": "markdown",
   "id": "b1fdf034-5543-41f4-8fae-a63a24096d9b",
   "metadata": {},
   "source": [
    " **Pull request** workflow:\n",
    " 1. Login to GitHub\n",
    " 2. Go to your forked repository\n",
    " 3. By pressing the tab \"pull request\" you will intialize your pull request to the base repository branch\n",
    " 4. Compare your branch with the branch to which you want to send the pull request\n",
    " 5. Initialize the pull request by writing a descritive message\n",
    " 6. Checking if the branch has any conflicts with the base branch. If not, your pull request will be sent.\n",
    " \n",
    "Before final merging to the base repositry branch, the owner need to revise it and decide to accept or refuse merging. \n",
    " 1. The owner sees that there is a pull request and needs to be revised.\n",
    " 2. If no conflicts and the owner decides to accept the request, the pulled changes can be merged with no problem by pressing \"merge pull request\" \n",
    " 3. If merge, the changes are then visible in upstream repository.      "
   ]
  }
 ],
 "metadata": {
  "kernelspec": {
   "display_name": "Bash",
   "language": "bash",
   "name": "bash"
  },
  "language_info": {
   "codemirror_mode": "shell",
   "file_extension": ".sh",
   "mimetype": "text/x-sh",
   "name": "bash"
  }
 },
 "nbformat": 4,
 "nbformat_minor": 5
}
