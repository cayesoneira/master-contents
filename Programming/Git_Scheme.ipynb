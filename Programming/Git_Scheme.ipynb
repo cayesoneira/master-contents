{
 "cells": [
  {
   "cell_type": "markdown",
   "id": "b6de05ba-f246-4e61-9c1e-4f7c7d442eb7",
   "metadata": {},
   "source": [
    "# Git workflow scheme (from Josipa Milovac'notes)"
   ]
  },
  {
   "cell_type": "markdown",
   "id": "f3b83535",
   "metadata": {
    "slideshow": {
     "slide_type": "fragment"
    }
   },
   "source": [
    "<div class=\"alert alert-danger\" role=\"alert\">\n",
    "  <b>Important</b><br/>\n",
    "  1. <b>git init</b> initializes Git within the selected repository.<br/>\n",
    "  2. All the information is stored in the hidden <b>.git</b> directory. Note that if .git deleted, all the info saved by git will be lost! <b>\n",
    "</div>"
   ]
  },
  {
   "cell_type": "markdown",
   "id": "e1fcf5bd",
   "metadata": {
    "slideshow": {
     "slide_type": "slide"
    }
   },
   "source": [
    "<div class=\"alert alert-danger\" role=\"alert\">\n",
    "<b>Important</b><br/>\n",
    "Before starting to work with Git, it is necessary to:<br/>\n",
    "1. Check the Git installation (installation manual available on https://git-scm.com/ <br>\n",
    "2. Personalize your Git (provide username, email, editor etc. ) using git config commands.\n",
    "</div>"
   ]
  },
  {
   "cell_type": "markdown",
   "id": "5f56a16a",
   "metadata": {
    "slideshow": {
     "slide_type": "fragment"
    }
   },
   "source": [
    "<div class=\"alert alert-warning\" role=\"alert\">\n",
    "  <b>Good practice of writing commit messages:</b><br/>\n",
    "    1. Separate the title from the body text with a blank line (if the message is longer) <br/> \n",
    "    2. Capitalize the subject line and each paragraph <br/> \n",
    "    3. Use the imperative mode in the subject line (e.g. Add, Change, Fix...) <br/> \n",
    "    4. Wrap it to 72 characters. <br/>\n",
    "    5. Use the body to explain what did you do and why.<br/> \n",
    "</div>"
   ]
  },
  {
   "cell_type": "markdown",
   "id": "33ae3b8b",
   "metadata": {
    "slideshow": {
     "slide_type": "slide"
    }
   },
   "source": [
    "<div class=\"alert alert-danger\" role=\"alert\">\n",
    "  <b>Important</b><br/>\n",
    "git commit does 4 things:<br/>\n",
    "1. Saves the current state of the staged file.<br/>\n",
    "2. Gives that state a specific ID.<br/>\n",
    "3. Asigns you as the author of the changes.<br/>\n",
    "4. Asigns a date and a descriptive message you provided as an author.<br/>\n",
    "</div>"
   ]
  },
  {
   "cell_type": "markdown",
   "id": "ea35db29",
   "metadata": {
    "slideshow": {
     "slide_type": "slide"
    }
   },
   "source": [
    "<div class=\"alert alert-danger\" role=\"alert\">\n",
    "  <b>Important</b><br/>\n",
    "Git workflow for tracking changes:<br/>\n",
    "    1. <b>git status</b> -> check current status of the respository <br/>\n",
    "    2. <b>git add [file]</b> -> stage a file to be tracked by git <br/>     \n",
    "    3. <b>git diff (--staged)</b> -> shows the differences made in a file after the last commit <br/>\n",
    "    4. <b>git commit -m 'message'</b> -> save the current state of the file with a descriptive message <br/>\n",
    "    5. <b>git log </b> -> check all the history of commits, with all metadata <br/>\n",
    "</div>"
   ]
  },
  {
   "cell_type": "markdown",
   "id": "bef0bffd",
   "metadata": {
    "slideshow": {
     "slide_type": "slide"
    }
   },
   "source": [
    "<div class=\"alert alert-danger\" role=\"alert\">\n",
    "  <b>Important</b><br/>\n",
    "    1. git reset [file]  -> unstages the file <br/>\n",
    "    2. git reset --[option] [commit_ID] -> undoes changes made on a file before committing <br/>\n",
    "    3. git checkout --[file] -> undoes changes made on a file after committing <br/>\n",
    "    4. git revert [commit_ID] -> undoes changes made on a file before committing, and updates the commited message <br/>\n",
    "</div>"
   ]
  },
  {
   "cell_type": "markdown",
   "id": "b2876274",
   "metadata": {
    "slideshow": {
     "slide_type": "slide"
    }
   },
   "source": [
    "<div class=\"alert alert-danger\" role=\"alert\">\n",
    "  <b>Important</b><br/>\n",
    "    1. git branch -> lists the branches within the repository <br/>\n",
    "    2. git branch [branch_name] -> creates a new branch named [branch_name] <br/>\n",
    "    3. git branch -m [branch_new_name] -> renames the branch <br/>\n",
    "    4. git branch -d [branch_name] -> deletes the [branch_name] <br/>\n",
    "    5. git checkout [branch_name]-> copies a working copy of the repository to a selected [branch_name]  <br/>\n",
    "    6. git merge (--no-edit) [branch_name] -> merges the [branch_name] to the currently active branch<br/>\n",
    "</div>"
   ]
  },
  {
   "cell_type": "markdown",
   "id": "64d2079b",
   "metadata": {
    "slideshow": {
     "slide_type": "fragment"
    }
   },
   "source": [
    "<div class=\"alert alert-danger\" role=\"alert\">\n",
    "  <b>Important</b><br/>\n",
    "    1. git merge [branch_name] -> merge aborted due to conflict <br/>\n",
    "    2. git status -> to confirm the existance of the conflict <br/>\n",
    "    3. Edit the file and manually fix the conflict following the Git instructions <br/>\n",
    "    4. Stage the modified file and commit the changes <br/>\n",
    "    5. Branches merged, and the new branch can be deleted. <br/>\n",
    "</div>"
   ]
  },
  {
   "cell_type": "markdown",
   "id": "abedcd6b",
   "metadata": {
    "slideshow": {
     "slide_type": "slide"
    }
   },
   "source": [
    "<div class=\"alert alert-danger\" role=\"alert\">\n",
    "  <b>Important </b><br/>\n",
    "From local to remote:<br/>\n",
    "    1. Create a remote repository on your GitHub account <br/>\n",
    "    2. Go to your local repository that you want push online <br/>\n",
    "    3. In the command line check if any remote declared: <b> git remote -v </b> <br/>\n",
    "    5. Declare remote: <b> git remote add [remote_alias] [https://github.com/[username]/[Repositry_name] </b> <br/>\n",
    "    6. Push changes online: <b> git push [option] [remote_alias] [branch] </b><br/>\n",
    "</div>"
   ]
  },
  {
   "cell_type": "markdown",
   "id": "50088172",
   "metadata": {
    "slideshow": {
     "slide_type": "slide"
    }
   },
   "source": [
    "<div class=\"alert alert-danger\" role=\"alert\">\n",
    "  <b>Important </b><br/>\n",
    "<b>From remote to local and back to forked remote repository:</b><br/>\n",
    "    1. Fork a public repositry to you personal GitHub account<br/>\n",
    "    2. Clone the forked repositry to your local machine using the command:<br/> \n",
    "    <b> git clone https://github.com/[username]/[Repositry_name]</b> <br/>\n",
    "    3. Make changes on your local machine. <br/>\n",
    "    4. Check if the cloned repository changed in the meanwhile and pull all the changes: <br/>\n",
    "    <b> git pull [remote_alias] [branch]</b> <br/>\n",
    "    5. Push back changes online to your GitHub account:<br/> <b> git push [option] [remote_alias] [branch]</b> <br/>\n",
    "</div>\n"
   ]
  },
  {
   "cell_type": "markdown",
   "id": "a93d9ac9",
   "metadata": {
    "slideshow": {
     "slide_type": "fragment"
    }
   },
   "source": [
    " __Pull request__ workflow:\n",
    " 1. Login to github\n",
    " 2. Go to your forked repository\n",
    " 3. By pressing the tab \"pull request\" you will intialize your pull request to the base repository branch\n",
    " 4. Compare your branch with the branch to which you want to send the pull request\n",
    " 5. Initialize the pull request by writing a descritive message\n",
    " 6. Checking if the branch has any conflicts with the base branch. If not, your pull request will be sent.\n",
    " \n",
    "Before final merging to the base repositry branch, the owner need to revise it and decide to accept or refuse merging. \n",
    " 1. The owner sees that there is a pull request and needs to be revised.\n",
    " 2. If no conflicts and the owner decides to accept the request, the pulled changes can be merged with no problem by pressing \"merge pull request\" \n",
    " 3. If merge, the changes are then visible in upstream repository.      "
   ]
  },
  {
   "cell_type": "markdown",
   "id": "5dcb4b3e",
   "metadata": {},
   "source": [
    "A nice schematic representation of the links between local, remote, and upstream repositories can be seen in [figure](https://www.authorea.com/users/5990/articles/17489/master/file/figures/Fig4/Fig4.png) from Blischak et al.(2016)."
   ]
  },
  {
   "cell_type": "markdown",
   "id": "86e7fac7",
   "metadata": {},
   "source": [
    "<div class=\"alert alert-danger\" role=\"alert\">\n",
    "  <b>Important </b><br/>\n",
    "<b>From forked remote to upstream remote repository:</b><br/>\n",
    "    1. Create a pull request on your GitHub account.<br/>\n",
    "    2. Write a clear comment to describe what has been changed. <br/>\n",
    "    3. Check if merging with the upstream repository is possible, check for conflicts. <br/>\n",
    "    4. If GitHub shows that merging is possible, and no conflicts detected, the pull request can be sent.<br/>\n",
    "    5. Mergening is being approved/rejected by the owner of the upstream remote. <br/>\n",
    "</div>\n"
   ]
  },
  {
   "cell_type": "markdown",
   "id": "cedb3706",
   "metadata": {
    "slideshow": {
     "slide_type": "slide"
    }
   },
   "source": [
    "<div class=\"alert alert-block alert-info\">\n",
    "<b>Exercise</b><br/>\n",
    "    1. In your local repository \"My_scripts\"<br/>\n",
    "    2. Edit README.md and overwrite the text with the line: \"This is my first repository on GitHub that contains a bash script.\"<br/>\n",
    "    3. Check the status, stage the file, commit the changes. <br/>\n",
    "    4. Create a new remote repository on GitHub named \"MyFirstRepo\". <br/>\n",
    "    5. Check available remotes in your local repository. <br/>\n",
    "    6. Declare a new remote named \"my_remote\" to \"https://github.com/[your_username]/MyFirstRepo/\"  <br/>\n",
    "    7. Push your local master branch to the declared remote named \"my_remote\". <br/>\n",
    "    8. Check you remote repository MyFirstRepo on Github. Can you find all the files from your local repository My_scripts there? <br/>\n",
    "</div>"
   ]
  },
  {
   "cell_type": "markdown",
   "id": "482f8ae0",
   "metadata": {
    "slideshow": {
     "slide_type": "slide"
    }
   },
   "source": [
    "\n",
    "# Literature and online material\n",
    "\n",
    "* Book: [Effective Computation in Physics](https://www.oreilly.com/library/view/effective-computation-in/9781491901564)\n",
    "* Online course from Software Carpentry: [Version Control with Git](https://swcarpentry.github.io/git-novice/)\n",
    "* Git refernce manual online: [Online manual](https://git-scm.com/doc)\n",
    "* A quick introduction to Git and GitHub : [Article](https://www.authorea.com/users/5990/articles/17489/_show_article)\n",
    "* Summary: [Cheat sheet](https://education.github.com/git-cheat-sheet-education.pdf)\n"
   ]
  }
 ],
 "metadata": {
  "kernelspec": {
   "display_name": "Bash",
   "language": "bash",
   "name": "bash"
  },
  "language_info": {
   "codemirror_mode": "shell",
   "file_extension": ".sh",
   "mimetype": "text/x-sh",
   "name": "bash"
  }
 },
 "nbformat": 4,
 "nbformat_minor": 5
}
