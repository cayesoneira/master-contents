{
 "cells": [
  {
   "cell_type": "markdown",
   "id": "c81a8d04-319f-4d06-b693-0c89b7777d7b",
   "metadata": {},
   "source": [
    "# **Exercises 3, part 1/2**. Numpy"
   ]
  },
  {
   "cell_type": "markdown",
   "id": "3063be5d-c352-4cc5-b2e1-60833a39532a",
   "metadata": {},
   "source": [
    "Computes and print, based on the data in populations.txt (use loadtxt to read the file)...\n",
    "\n",
    "- The mean and std of the populations of each species for the years in the period.\n",
    "- Which year each species had the largest population.\n",
    "- Which species has the largest population for each year. (Hint: argsort & fancy indexing of np.array(['H', 'L', 'C']))\n",
    "- Which years any of the populations is above 50000. (Hint: comparisons and np.any)\n",
    "- The top 2 years for each species when they had the lowest populations. (Hint: argsort, fancy indexing)\n",
    "- Compare (plot) the change in hare population (see help(np.gradient)) and the number of lynxes. Check correlation (see help(np.corrcoef)).\n",
    "\n",
    "... all without for-loops."
   ]
  },
  {
   "cell_type": "code",
   "execution_count": 1,
   "id": "96fcaf63-96b7-4e4d-a985-0ae68b491b09",
   "metadata": {},
   "outputs": [],
   "source": [
    "import numpy as np"
   ]
  },
  {
   "cell_type": "code",
   "execution_count": 2,
   "id": "52955b38-065a-478c-8d4b-0bdfd867a542",
   "metadata": {},
   "outputs": [],
   "source": [
    "dat = np.loadtxt(\"populations.txt\")"
   ]
  },
  {
   "cell_type": "markdown",
   "id": "eb71dae6-beb4-4a7f-9239-c9f3154c5018",
   "metadata": {},
   "source": [
    "### The mean and std of the populations of each species for the years in the period."
   ]
  },
  {
   "cell_type": "code",
   "execution_count": 3,
   "id": "26758680-d644-4da1-b64a-9149bd65581d",
   "metadata": {},
   "outputs": [
    {
     "name": "stdout",
     "output_type": "stream",
     "text": [
      "╒═══════════╤═════════╤═════════╤═══════════╕\n",
      "│ Value     │   Hares │    Lynx │   Carrots │\n",
      "╞═══════════╪═════════╪═════════╪═══════════╡\n",
      "│ Mean      │ 34081   │ 20166.7 │  42400    │\n",
      "├───────────┼─────────┼─────────┼───────────┤\n",
      "│ Std. Dev. │ 20897.9 │ 16254.6 │   3322.51 │\n",
      "╘═══════════╧═════════╧═════════╧═══════════╛\n"
     ]
    }
   ],
   "source": [
    "mean = dat[:,1:].sum(axis = 0)/dat[:,0].size\n",
    "std = np.std(dat[:,1:], axis=0)\n",
    "\n",
    "from tabulate import tabulate\n",
    "\n",
    "data = {'Value': ['Mean', 'Std. Dev.'], \n",
    "        'Hares': [mean[0], std[0]],\n",
    "        'Lynx': [mean[1], std[1]],\n",
    "        'Carrots': [mean[2], std[2]]}\n",
    "  \n",
    "print(tabulate(data, headers='keys',tablefmt='fancy_grid'))"
   ]
  },
  {
   "cell_type": "markdown",
   "id": "5cb36c25-8ddc-4679-b412-1faf30c48209",
   "metadata": {},
   "source": [
    "### Which year each species had the largest population."
   ]
  },
  {
   "cell_type": "code",
   "execution_count": 4,
   "id": "a1c94278-cde1-44bd-a190-01e381e0a382",
   "metadata": {},
   "outputs": [
    {
     "name": "stdout",
     "output_type": "stream",
     "text": [
      "Hares:  1903.0\n",
      "Lynx:  1904.0\n",
      "Carrots:  1900.0\n"
     ]
    }
   ],
   "source": [
    "print(\"Hares: \",dat[:,0][np.argmax(dat[:,1])])\n",
    "print(\"Lynx: \", dat[:,0][np.argmax(dat[:,2])])\n",
    "print(\"Carrots: \", dat[:,0][np.argmax(dat[:,3])])"
   ]
  },
  {
   "cell_type": "markdown",
   "id": "223f733d-b615-422e-91f5-cbc3ae5a6702",
   "metadata": {},
   "source": [
    "### Which species has the largest population for each year. (Hint: argsort & fancy indexing of np.array(['H', 'L', 'C']))"
   ]
  },
  {
   "cell_type": "code",
   "execution_count": 5,
   "id": "9ea446b6-fc62-44a1-b467-74cc4b4f921d",
   "metadata": {},
   "outputs": [
    {
     "name": "stdout",
     "output_type": "stream",
     "text": [
      "╒════════╤══════════════╕\n",
      "│   Year │ Maximum of   │\n",
      "╞════════╪══════════════╡\n",
      "│   1900 │ Carrot       │\n",
      "├────────┼──────────────┤\n",
      "│   1901 │ Carrot       │\n",
      "├────────┼──────────────┤\n",
      "│   1902 │ Lynx         │\n",
      "├────────┼──────────────┤\n",
      "│   1903 │ Lynx         │\n",
      "├────────┼──────────────┤\n",
      "│   1904 │ Lynx         │\n",
      "├────────┼──────────────┤\n",
      "│   1905 │ Lynx         │\n",
      "├────────┼──────────────┤\n",
      "│   1906 │ Carrot       │\n",
      "├────────┼──────────────┤\n",
      "│   1907 │ Carrot       │\n",
      "├────────┼──────────────┤\n",
      "│   1908 │ Carrot       │\n",
      "├────────┼──────────────┤\n",
      "│   1909 │ Carrot       │\n",
      "├────────┼──────────────┤\n",
      "│   1910 │ Carrot       │\n",
      "├────────┼──────────────┤\n",
      "│   1911 │ Carrot       │\n",
      "├────────┼──────────────┤\n",
      "│   1912 │ Lynx         │\n",
      "├────────┼──────────────┤\n",
      "│   1913 │ Lynx         │\n",
      "├────────┼──────────────┤\n",
      "│   1914 │ Hare         │\n",
      "├────────┼──────────────┤\n",
      "│   1915 │ Lynx         │\n",
      "├────────┼──────────────┤\n",
      "│   1916 │ Carrot       │\n",
      "├────────┼──────────────┤\n",
      "│   1917 │ Carrot       │\n",
      "├────────┼──────────────┤\n",
      "│   1918 │ Carrot       │\n",
      "├────────┼──────────────┤\n",
      "│   1919 │ Carrot       │\n",
      "├────────┼──────────────┤\n",
      "│   1920 │ Carrot       │\n",
      "╘════════╧══════════════╛\n"
     ]
    }
   ],
   "source": [
    "Y = dat[:,0]\n",
    "H = dat[:,1]\n",
    "L = dat[:,2]\n",
    "C = dat[:,3]\n",
    "\n",
    "y = np.ndarray.tolist(Y)\n",
    "\n",
    "c = np.argmax(np.argsort(np.vstack([[H],[L],[C]]), axis = 0).T,axis=1)\n",
    "b = np.ndarray.tolist(c)\n",
    "\n",
    "b = ['Hare' if item == 0 else item for item in b]\n",
    "b = ['Lynx' if item == 1 else item for item in b]\n",
    "b = ['Carrot' if item == 2 else item for item in b]\n",
    "\n",
    "dict = {'Year':Y,'Maximum of':b}\n",
    "print(tabulate(dict, headers='keys',tablefmt='fancy_grid'))"
   ]
  },
  {
   "cell_type": "markdown",
   "id": "c5b2582e-4eb6-4b0e-a572-b302f1d973b3",
   "metadata": {},
   "source": [
    "### Which years any of the populations is above 50000. (Hint: comparisons and np.any)"
   ]
  },
  {
   "cell_type": "code",
   "execution_count": 6,
   "id": "7f69018d-3e9e-4078-b465-d09ff856a81f",
   "metadata": {},
   "outputs": [
    {
     "data": {
      "text/plain": [
       "array([1902., 1903., 1904., 1912., 1913., 1914., 1915.])"
      ]
     },
     "execution_count": 6,
     "metadata": {},
     "output_type": "execute_result"
    }
   ],
   "source": [
    "# np.any(a, axis=None)\n",
    "\n",
    "d = np.vstack([[H],[L],[C]]).T\n",
    "f = np.greater(d,50000)\n",
    "e = np.any(f, axis=1)\n",
    "Y[e]"
   ]
  },
  {
   "cell_type": "markdown",
   "id": "3d30b678-4711-4ceb-a344-5cda737770c8",
   "metadata": {},
   "source": [
    "### The top 2 years for each species when they had the lowest populations. (Hint: argsort, fancy indexing)"
   ]
  },
  {
   "cell_type": "code",
   "execution_count": 7,
   "id": "953d72c9-43a9-49b7-b04d-f0b963076d3f",
   "metadata": {},
   "outputs": [
    {
     "name": "stdout",
     "output_type": "stream",
     "text": [
      "Worst years for hares:  [1912. 1915.]\n",
      "Worst years for lynx:  [1900. 1901.]\n",
      "Worst years for carrots:  [1919. 1920.]\n"
     ]
    }
   ],
   "source": [
    "c = np.argsort(np.vstack([[H],[L],[C]]), axis = 1).T\n",
    "\n",
    "# Hares\n",
    "print(\"Worst years for hares: \",Y[np.where(c[:,0] <=1 )])\n",
    "# Lynx\n",
    "print(\"Worst years for lynx: \",Y[np.where(c[:,1] <=1 )])\n",
    "# Carrots\n",
    "print(\"Worst years for carrots: \",Y[np.where(c[:,2] <=1 )])"
   ]
  },
  {
   "cell_type": "markdown",
   "id": "f8e92e04-f8ff-405f-87c2-2ee2e25f5929",
   "metadata": {},
   "source": [
    "### Compare (plot) the change in hare population (see help(np.gradient)) and the number of lynxes. Check correlation (see help(np.corrcoef))."
   ]
  },
  {
   "cell_type": "code",
   "execution_count": 8,
   "id": "ab7fb241-5087-40dc-8325-e0eb87d6d4ef",
   "metadata": {},
   "outputs": [
    {
     "name": "stdout",
     "output_type": "stream",
     "text": [
      "Correlation:  -0.9179248480315342 \n",
      "\n"
     ]
    },
    {
     "data": {
      "image/png": "[encoded data removed]",
      "text/plain": [
       "<Figure size 800x550 with 1 Axes>"
      ]
     },
     "metadata": {},
     "output_type": "display_data"
    }
   ],
   "source": [
    "import matplotlib.pyplot as plt\n",
    "\n",
    "gH = np.gradient(H)\n",
    "\n",
    "plt.style.use('seaborn-v0_8')\n",
    "fig, ax = plt.subplots()\n",
    "ax.plot(gH,L,marker='o',linewidth=0,markersize=6)\n",
    "ax.set_xlabel(\"Change in hare population\")\n",
    "ax.set_ylabel(\"Lynx population\")\n",
    "\n",
    "\n",
    "print(\"Correlation: \",np.corrcoef(gH,L)[1,0],\"\\n\")\n",
    "plt.show()"
   ]
  },
  {
   "cell_type": "code",
   "execution_count": null,
   "id": "606a78f4-a6ea-498d-aa4e-e4ea401a2a14",
   "metadata": {},
   "outputs": [],
   "source": []
  }
 ],
 "metadata": {
  "kernelspec": {
   "display_name": "Python 3 (ipykernel)",
   "language": "python",
   "name": "python3"
  },
  "language_info": {
   "codemirror_mode": {
    "name": "ipython",
    "version": 3
   },
   "file_extension": ".py",
   "mimetype": "text/x-python",
   "name": "python",
   "nbconvert_exporter": "python",
   "pygments_lexer": "ipython3",
   "version": "3.10.6"
  }
 },
 "nbformat": 4,
 "nbformat_minor": 5
}
