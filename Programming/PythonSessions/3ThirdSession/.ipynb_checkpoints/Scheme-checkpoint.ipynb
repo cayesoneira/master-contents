{
 "cells": [
  {
   "cell_type": "code",
   "execution_count": 4,
   "id": "c0580988-b32b-4898-966d-a7e3dc22c4b9",
   "metadata": {},
   "outputs": [],
   "source": [
    "import numpy as np"
   ]
  },
  {
   "cell_type": "markdown",
   "id": "3b4240dc-1249-49cf-985d-65153176532d",
   "metadata": {},
   "source": [
    "### Arrays are classes in numpy, where each array is an instance; and it has a fixated memory allocated (when merging, we a re creating a new one).\n",
    "Arrays are created in two ways:\n",
    "- By giving to the np.array() method the typical enumerative object in Python, i.e., lists.\n",
    "- By using special numpy methods such as np.ones, np.zeros and np.empty arrays."
   ]
  },
  {
   "cell_type": "code",
   "execution_count": 15,
   "id": "cad26c22-4779-4fc0-9634-abde69ce9671",
   "metadata": {},
   "outputs": [
    {
     "data": {
      "text/plain": [
       "array([0., 0.])"
      ]
     },
     "execution_count": 15,
     "metadata": {},
     "output_type": "execute_result"
    }
   ],
   "source": [
    "np.zeros(2)"
   ]
  },
  {
   "cell_type": "code",
   "execution_count": 16,
   "id": "b3aa3a1f-c3f2-4f00-b8f2-98e83152d3ab",
   "metadata": {},
   "outputs": [
    {
     "data": {
      "text/plain": [
       "array([[0., 0., 0.],\n",
       "       [0., 0., 0.]])"
      ]
     },
     "execution_count": 16,
     "metadata": {},
     "output_type": "execute_result"
    }
   ],
   "source": [
    "a = np.zeros((2,3))\n",
    "a"
   ]
  },
  {
   "cell_type": "markdown",
   "id": "8aef3ad8-dacf-456e-bddb-a1a40d4b6373",
   "metadata": {},
   "source": [
    "### .shape is another method in the class of the arrays:\n",
    ".shape gives tuples, and tuples are needed in the declaration of np.ones, np.zeros and np.empty arrays."
   ]
  },
  {
   "cell_type": "code",
   "execution_count": 17,
   "id": "13f276b7-c439-4337-a3b7-5cab6f4c85e7",
   "metadata": {},
   "outputs": [],
   "source": [
    "b = a.shape"
   ]
  },
  {
   "cell_type": "code",
   "execution_count": 12,
   "id": "0460293a-abd8-48b3-8f2f-41961e8bd732",
   "metadata": {},
   "outputs": [
    {
     "data": {
      "text/plain": [
       "array([[0., 0., 0.],\n",
       "       [0., 0., 0.]])"
      ]
     },
     "execution_count": 12,
     "metadata": {},
     "output_type": "execute_result"
    }
   ],
   "source": [
    "np.zeros(b)"
   ]
  },
  {
   "cell_type": "markdown",
   "id": "022324b6-f0ce-48e6-aeb6-bc0dbe410a2d",
   "metadata": {},
   "source": [
    "### Each assignation of an array only shares the pointer, but does not modify the array!"
   ]
  },
  {
   "cell_type": "code",
   "execution_count": 45,
   "id": "4b5830fc-69a6-48a4-acea-8ad5d10629f5",
   "metadata": {},
   "outputs": [],
   "source": [
    "a = np.array([1,2,3])\n",
    "b = a\n",
    "b[1] = 10"
   ]
  },
  {
   "cell_type": "code",
   "execution_count": 46,
   "id": "6b8913c2-41cb-4047-91dd-71cc3ef333c0",
   "metadata": {},
   "outputs": [
    {
     "name": "stdout",
     "output_type": "stream",
     "text": [
      "[ 1 10  3]\n",
      "[ 1 10  3]\n"
     ]
    }
   ],
   "source": [
    "print(a)\n",
    "print(b)"
   ]
  },
  {
   "cell_type": "markdown",
   "id": "d77816fa-f7fd-4a15-86f6-d332326bc6dc",
   "metadata": {},
   "source": [
    "### We should do instead:"
   ]
  },
  {
   "cell_type": "code",
   "execution_count": null,
   "id": "66eb5b42-4596-4312-b5cd-f04db35ceebc",
   "metadata": {},
   "outputs": [],
   "source": [
    "a = np.array([1,2,3])\n",
    "b = a.copy()\n",
    "b[1] = 10"
   ]
  },
  {
   "cell_type": "code",
   "execution_count": 29,
   "id": "02b6aa87-b185-4ec0-8c8c-e3be5be445f0",
   "metadata": {},
   "outputs": [
    {
     "data": {
      "text/plain": [
       "array([1, 2, 3, 4, 5, 6])"
      ]
     },
     "execution_count": 29,
     "metadata": {},
     "output_type": "execute_result"
    }
   ],
   "source": [
    "a = np.array([[1 , 2, 3, 4], [5, 6, 7, 8], [9, 10, 11, 12]])\n",
    "a[a < 7]"
   ]
  },
  {
   "cell_type": "code",
   "execution_count": 30,
   "id": "3e6dae53-e462-497a-90d2-d71424524a58",
   "metadata": {},
   "outputs": [],
   "source": [
    "a1 = np.array([[1, 1],\n",
    "\n",
    "               [2, 2]])\n",
    "\n",
    "a2 = np.array([[3, 3],\n",
    "\n",
    "               [4, 4]])"
   ]
  },
  {
   "cell_type": "code",
   "execution_count": 31,
   "id": "f7642289-f524-4fe1-9478-0f0c93af9952",
   "metadata": {},
   "outputs": [
    {
     "data": {
      "text/plain": [
       "array([[1, 1],\n",
       "       [2, 2],\n",
       "       [3, 3],\n",
       "       [4, 4]])"
      ]
     },
     "execution_count": 31,
     "metadata": {},
     "output_type": "execute_result"
    }
   ],
   "source": [
    "np.vstack((a1, a2))"
   ]
  },
  {
   "cell_type": "code",
   "execution_count": 32,
   "id": "31b81cb4-f170-493d-a976-c0766c3b6d95",
   "metadata": {},
   "outputs": [
    {
     "data": {
      "text/plain": [
       "array([[1, 1, 3, 3],\n",
       "       [2, 2, 4, 4]])"
      ]
     },
     "execution_count": 32,
     "metadata": {},
     "output_type": "execute_result"
    }
   ],
   "source": [
    "np.hstack((a1, a2))"
   ]
  },
  {
   "cell_type": "markdown",
   "id": "e7877a21-0656-4a6c-98fe-a3354ca15e3e",
   "metadata": {},
   "source": [
    "![hey](broadcast.png)"
   ]
  },
  {
   "cell_type": "code",
   "execution_count": 56,
   "id": "2a57b3ee-0493-46f6-b9b6-9687156ac314",
   "metadata": {},
   "outputs": [],
   "source": [
    "# np.swapaxes( array, first axes to change, second axes to change)"
   ]
  },
  {
   "cell_type": "markdown",
   "id": "fd21710b-2da0-4941-a096-2fde6a222428",
   "metadata": {},
   "source": [
    "### How to write the help information"
   ]
  },
  {
   "cell_type": "code",
   "execution_count": 57,
   "id": "5e352de1-a175-4453-8a6c-83c1d6049747",
   "metadata": {},
   "outputs": [],
   "source": [
    "def fct(x):\n",
    "    \"\"\"This info pops up when calling help\"\"\"\n",
    "    return"
   ]
  },
  {
   "cell_type": "code",
   "execution_count": 58,
   "id": "f3f5ce9d-ed7b-41a3-8f3c-c71056821d9b",
   "metadata": {},
   "outputs": [],
   "source": [
    "fct(2)"
   ]
  },
  {
   "cell_type": "code",
   "execution_count": 55,
   "id": "907b05d2-c0a6-4b96-9bfb-fa3529789ae2",
   "metadata": {},
   "outputs": [
    {
     "name": "stdout",
     "output_type": "stream",
     "text": [
      "Help on function fct in module __main__:\n",
      "\n",
      "fct(x)\n",
      "    This info pops up when calling help\n",
      "\n"
     ]
    }
   ],
   "source": [
    "help(fct)"
   ]
  },
  {
   "cell_type": "markdown",
   "id": "383400f0-e98d-4f4f-96d1-60803cb5a858",
   "metadata": {},
   "source": [
    "![hey](matplot.png)"
   ]
  },
  {
   "cell_type": "code",
   "execution_count": null,
   "id": "d57df8a8-93d5-4876-9f71-0df7add7c8b6",
   "metadata": {},
   "outputs": [],
   "source": []
  }
 ],
 "metadata": {
  "kernelspec": {
   "display_name": "Python 3 (ipykernel)",
   "language": "python",
   "name": "python3"
  },
  "language_info": {
   "codemirror_mode": {
    "name": "ipython",
    "version": 3
   },
   "file_extension": ".py",
   "mimetype": "text/x-python",
   "name": "python",
   "nbconvert_exporter": "python",
   "pygments_lexer": "ipython3",
   "version": "3.10.6"
  }
 },
 "nbformat": 4,
 "nbformat_minor": 5
}
