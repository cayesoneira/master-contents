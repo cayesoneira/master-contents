{
 "cells": [
  {
   "cell_type": "markdown",
   "id": "ede96310-abd2-4be4-8da1-1f0f0b209c09",
   "metadata": {},
   "source": [
    "# **Exercises 3, part 2/2**. Matplotlib"
   ]
  },
  {
   "cell_type": "code",
   "execution_count": null,
   "id": "decabf69-5bea-4fdc-b7be-51826958662a",
   "metadata": {},
   "outputs": [],
   "source": []
  }
 ],
 "metadata": {
  "kernelspec": {
   "display_name": "Python 3 (ipykernel)",
   "language": "python",
   "name": "python3"
  },
  "language_info": {
   "codemirror_mode": {
    "name": "ipython",
    "version": 3
   },
   "file_extension": ".py",
   "mimetype": "text/x-python",
   "name": "python",
   "nbconvert_exporter": "python",
   "pygments_lexer": "ipython3",
   "version": "3.10.6"
  }
 },
 "nbformat": 4,
 "nbformat_minor": 5
}
