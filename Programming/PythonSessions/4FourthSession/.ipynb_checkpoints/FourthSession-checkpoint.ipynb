{
 "cells": [
  {
   "cell_type": "markdown",
   "id": "a89985d3-2a83-4698-b58e-4ca49957782c",
   "metadata": {},
   "source": [
    "# Main stuff:\n",
    "- You can export directly from pandas to latex tables\n",
    "- "
   ]
  },
  {
   "cell_type": "code",
   "execution_count": 10,
   "id": "9bd8d9a1-760a-4f36-a9bf-0cda75a9eb20",
   "metadata": {},
   "outputs": [
    {
     "ename": "ModuleNotFoundError",
     "evalue": "No module named 'geopy'",
     "output_type": "error",
     "traceback": [
      "\u001b[0;31m---------------------------------------------------------------------------\u001b[0m",
      "\u001b[0;31mModuleNotFoundError\u001b[0m                       Traceback (most recent call last)",
      "Cell \u001b[0;32mIn[10], line 3\u001b[0m\n\u001b[1;32m      1\u001b[0m \u001b[38;5;28;01mimport\u001b[39;00m \u001b[38;5;21;01mpandas\u001b[39;00m \u001b[38;5;28;01mas\u001b[39;00m \u001b[38;5;21;01mpd\u001b[39;00m\n\u001b[1;32m      2\u001b[0m \u001b[38;5;28;01mimport\u001b[39;00m \u001b[38;5;21;01mnumpy\u001b[39;00m \u001b[38;5;28;01mas\u001b[39;00m \u001b[38;5;21;01mnp\u001b[39;00m\n\u001b[0;32m----> 3\u001b[0m \u001b[38;5;28;01mfrom\u001b[39;00m \u001b[38;5;21;01mgeopy\u001b[39;00m\u001b[38;5;21;01m.\u001b[39;00m\u001b[38;5;21;01mdistance\u001b[39;00m \u001b[38;5;28;01mimport\u001b[39;00m geodesic\n\u001b[1;32m      5\u001b[0m \u001b[38;5;66;03m# Read the file \"nucleos_de_poblacion.csv\" using pandas\u001b[39;00m\n\u001b[1;32m      6\u001b[0m df \u001b[38;5;241m=\u001b[39m pd\u001b[38;5;241m.\u001b[39mread_csv(\u001b[38;5;124m\"\u001b[39m\u001b[38;5;124mpopulations.csv\u001b[39m\u001b[38;5;124m\"\u001b[39m)\n",
      "\u001b[0;31mModuleNotFoundError\u001b[0m: No module named 'geopy'"
     ]
    }
   ],
   "source": [
    "import pandas as pd\n",
    "import numpy as np\n",
    "from geopy.distance import geodesic\n",
    "\n",
    "# Read the file \"nucleos_de_poblacion.csv\" using pandas\n",
    "df = pd.read_csv(\"populations.csv\")\n",
    "\n",
    "# How many \"Municipios\" have a population larger than 100000?\n",
    "pop_gt_100k = df[df[\"Poblacion\"] > 100000].shape[0]\n",
    "print(f\"There are {pop_gt_100k} municipios with a population larger than 100000.\")\n",
    "\n",
    "# Which is the second most populated city?\n",
    "second_most_pop = df.sort_values(by=\"Poblacion\", ascending=False)[\"Municipio\"].iloc[1]\n",
    "print(f\"The second most populated city is {second_most_pop}.\")\n",
    "\n",
    "# In which position is Granada in the ranking of the most populated cities?\n",
    "granada_rank = df[df[\"Municipio\"] == \"Granada\"].index[0] + 1\n",
    "print(f\"Granada is ranked #{granada_rank} in the list of most populated cities.\")\n",
    "\n",
    "# Which are the 10 less populated \"municipios\"?\n",
    "least_pop = df.sort_values(by=\"Poblacion\")[\"Municipio\"].head(10)\n",
    "print(f\"The 10 least populated municipios are: {least_pop.tolist()}\")\n",
    "\n",
    "# ¿How many \"municipios\" in Leon have a population smaller than 60000?\n",
    "leon_lt_60k = df[(df[\"Provincia\"] == \"León\") & (df[\"Poblacion\"] < 60000)].shape[0]\n",
    "print(f\"There are {leon_lt_60k} municipios in León with a population smaller than 60000.\")\n",
    "\n",
    "# Which is the most northen \"municipio\"? (Note that the \"Y\" coordinate represents the latitude in degrees). \n",
    "# Specify as well in which \"provincia\" it is in and the number of inhabitants there are.\n",
    "most_north = df.sort_values(by=\"Y\", ascending=False).iloc[0]\n",
    "most_north_municipio = most_north[\"Municipio\"]\n",
    "most_north_provincia = most_north[\"Provincia\"]\n",
    "most_north_pop = most_north[\"Poblacion\"]\n",
    "print(f\"The most northen municipio is {most_north_municipio} in {most_north_provincia} with a population of {most_north_pop}.\")\n",
    "\n",
    "# Which is the most eastern \"municipio\" in Cantabria? And the most western?\n",
    "\n",
    "cantabria_df = df[df[\"PROVINCIA\"] == \"Cantabria\"]\n",
    "eastern = cantabria_df.loc[cantabria_df[\"X\"].idxmax()]\n",
    "western = cantabria_df.loc[cantabria_df[\"X\"].idxmin()]\n",
    "print(\"The most eastern municipio in Cantabria is\", eastern[\"NOMBRE\"], \"and the most western is\", western[\"NOMBRE\"])\n",
    "\n",
    "# Specify the names of the closest and furthest \"munipios\" to Madrid (different from Madrid). Calculate the distance to solve this tasks.\n",
    "madrid = (40.4165, -3.70256)  # latitude and longitude of Madrid\n",
    "min_distance = float(\"inf\")\n",
    "max_distance = 0\n",
    "closest_municipio = None\n",
    "furthest_municipio = None\n",
    "for i, row in df.iterrows():\n",
    "    municipio = (row[\"Y\"], row[\"X\"])  # latitude and longitude of the municipio\n",
    "    distance = geodesic(madrid, municipio).km\n",
    "    if distance < min_distance and row[\"NOMBRE\"] != \"Madrid\":\n",
    "        min_distance = distance\n",
    "        closest_municipio = row[\"NOMBRE\"]\n",
    "    if distance > max_distance:\n",
    "        max_distance = distance\n",
    "        furthest_municipio = row[\"NOMBRE\"]\n",
    "print(\"The closest municipio to Madrid is\", closest_municipio, \"at a distance of\", min_distance, \"km\")\n",
    "print(\"The furthest municipio to Madrid is\", furthest_municipio, \"at a distance of\", max_distance, \"km\")\n",
    "\n",
    "# How many \"Municipios\" are within a 5 degree radius from Barcelona city?\n",
    "barcelona = (41.3851, 2.1734)  # latitude and longitude of Barcelona\n",
    "radius = 5  # radius in degrees\n",
    "num_municipios = 0\n",
    "for i, row in df.iterrows():\n",
    "    municipio = (row[\"Y\"], row[\"X\"])  # latitude and longitude of the municipio\n",
    "    distance = geodesic(barcelona, municipio).km\n",
    "    if distance <= radius:\n",
    "        num_municipios += 1\n",
    "print(\"There are\", num_municipios, \"municipios within a 5 degree radius of Barcelona\")\n",
    "\n",
    "# Calculate the mean, median, standard deviation, maximun and minimum values of the population of Cantabria's \"municipios\".\n",
    "# Calculate the population in each \"provincia\"."
   ]
  },
  {
   "cell_type": "code",
   "execution_count": null,
   "id": "5c3ef65a-06aa-43c2-87df-217c94b7e30a",
   "metadata": {},
   "outputs": [],
   "source": []
  }
 ],
 "metadata": {
  "kernelspec": {
   "display_name": "Python 3 (ipykernel)",
   "language": "python",
   "name": "python3"
  },
  "language_info": {
   "codemirror_mode": {
    "name": "ipython",
    "version": 3
   },
   "file_extension": ".py",
   "mimetype": "text/x-python",
   "name": "python",
   "nbconvert_exporter": "python",
   "pygments_lexer": "ipython3",
   "version": "3.10.8"
  }
 },
 "nbformat": 4,
 "nbformat_minor": 5
}
