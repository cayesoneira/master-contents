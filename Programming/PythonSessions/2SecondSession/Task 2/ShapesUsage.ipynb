{
 "cells": [
  {
   "cell_type": "markdown",
   "id": "ee8bbfff-adb3-4bcd-8d9f-b30fe243324d",
   "metadata": {},
   "source": [
    "# **Exercises**. OOP Geometric Shapes\n",
    "\n",
    "Create a module in Python (Shapes.py) applying object-oriented programming for modeling basic geometric shapes. Create at least one class for each basic geometric shape: Circle, Rectangle, and Triangle. All of them must inherit from a “Shape” class, which defines the shared methods. This assignment does not have a unique solution. The objective is to implement different OOP concepts:"
   ]
  },
  {
   "cell_type": "code",
   "execution_count": 1,
   "id": "ce21c73d-b53f-46f4-8a8d-f46ce5ddcc77",
   "metadata": {},
   "outputs": [],
   "source": [
    "import Shapes as sh"
   ]
  },
  {
   "cell_type": "markdown",
   "id": "c4d171af-a518-477f-8ddd-81f1c9470f65",
   "metadata": {},
   "source": [
    "- Overload __repr__ and __str__ to show the information of the geometric form. What is the difference between __str__ and __repr__?\n",
    "    - As in the examples, we can see the use of both overriden methods:"
   ]
  },
  {
   "cell_type": "code",
   "execution_count": 2,
   "id": "e8befa55-b598-47d6-a744-91ea860fde30",
   "metadata": {},
   "outputs": [],
   "source": [
    "# Syntax: sh.<any shape, first in Upper Case>(<name>,<base>,<height>,<Area/same as None>)\n",
    "# sp.Circle(<name>,<radius>,<Area/same as None>)\n",
    "\n",
    "c1 = sh.Circle(\"First circle\",2,None)"
   ]
  },
  {
   "cell_type": "code",
   "execution_count": 3,
   "id": "b5d75f3e-ab3d-4ef3-a808-77c76beb1986",
   "metadata": {},
   "outputs": [
    {
     "data": {
      "text/plain": [
       "Shape(First circle, 2,12.56)"
      ]
     },
     "execution_count": 3,
     "metadata": {},
     "output_type": "execute_result"
    }
   ],
   "source": [
    "c1"
   ]
  },
  {
   "cell_type": "code",
   "execution_count": 4,
   "id": "d39836ed-a057-493f-bc65-8781ed4d9634",
   "metadata": {},
   "outputs": [
    {
     "name": "stdout",
     "output_type": "stream",
     "text": [
      "First Circle\n"
     ]
    }
   ],
   "source": [
    "print(c1)"
   ]
  },
  {
   "cell_type": "markdown",
   "id": "1706f1c2-22fa-427f-9229-11c3e6e71c94",
   "metadata": {},
   "source": [
    "- Concerning arithmetic operators, operations between 2 figures are performed with the parameters of each geometric shape. For example, if we add 2 circles, a new circle, whose radius is the sum of the previous, is created. Regarding operations between figures and objects of numerical type, the number will be applied to each geometric shape’s attribute."
   ]
  },
  {
   "cell_type": "code",
   "execution_count": 5,
   "id": "162b756b-af73-4eed-95a0-e79243cd6548",
   "metadata": {},
   "outputs": [],
   "source": [
    "c2 = sh.Circle(\"Second circle\",3,None)"
   ]
  },
  {
   "cell_type": "code",
   "execution_count": 6,
   "id": "10e82845-b7e9-4963-beb5-ecbdd374140a",
   "metadata": {},
   "outputs": [
    {
     "data": {
      "text/plain": [
       "Shape(Second circle, 3,28.26)"
      ]
     },
     "execution_count": 6,
     "metadata": {},
     "output_type": "execute_result"
    }
   ],
   "source": [
    "c2"
   ]
  },
  {
   "cell_type": "code",
   "execution_count": 7,
   "id": "a5e654cb-a6dc-4fc1-8f9d-c09cafd92cb2",
   "metadata": {},
   "outputs": [],
   "source": [
    "cSumFig = sh.Circle.summingFigs(\"Summed circle\",c1,c2)\n",
    "\n",
    "cSumNum = sh.Circle.summingNums(\"Modified circle\",c1,4)"
   ]
  },
  {
   "cell_type": "code",
   "execution_count": 8,
   "id": "5cc98c67-08a4-4bb0-b147-b9ca59111003",
   "metadata": {},
   "outputs": [
    {
     "data": {
      "text/plain": [
       "Shape(Summed circle, 5,78.5)"
      ]
     },
     "execution_count": 8,
     "metadata": {},
     "output_type": "execute_result"
    }
   ],
   "source": [
    "cSumFig"
   ]
  },
  {
   "cell_type": "code",
   "execution_count": 9,
   "id": "f83089ee-d6a9-47aa-9b77-f3e2ab5d9707",
   "metadata": {},
   "outputs": [
    {
     "data": {
      "text/plain": [
       "Shape(Modified circle, 6,113.04)"
      ]
     },
     "execution_count": 9,
     "metadata": {},
     "output_type": "execute_result"
    }
   ],
   "source": [
    "cSumNum"
   ]
  },
  {
   "cell_type": "markdown",
   "id": "589703aa-7a21-4bdc-980f-746d204d4d9c",
   "metadata": {},
   "source": [
    "- For comparison operators, the area of the figure is used to compare among shapes. Thus, shapes of different types are comparable, i.e., comparison operators should be implemented in the “Shape” class."
   ]
  },
  {
   "cell_type": "code",
   "execution_count": 10,
   "id": "a076dc78-19fb-4935-96ea-b884c94df4d9",
   "metadata": {},
   "outputs": [
    {
     "name": "stdout",
     "output_type": "stream",
     "text": [
      "Second Circle is bigger than First Circle\n"
     ]
    }
   ],
   "source": [
    "sh.Shape.bigger(c1,c2)"
   ]
  },
  {
   "cell_type": "markdown",
   "id": "444474a3-1510-440d-8f5e-7d8c45d38d88",
   "metadata": {},
   "source": [
    "- The “Shape” class must “enforce” the child classes the implementation of the shared methods (raise NotImplementedError). Can all methods (arithmetic and/or relational) be implemented in the parent class “Shape”?\n",
    "    - Not all methods can be implemented in the parent class \"Shape\", such as the **creation of a new class, e.g. a circle, by summing two circles**.\n",
    "    - About the enforcement, we just can do it when summing figures. We just comment this method in the child class rectangle to force the execution in Shapes:"
   ]
  },
  {
   "cell_type": "code",
   "execution_count": 11,
   "id": "90b9e63c-0f52-4950-b16d-f4f6d63b783e",
   "metadata": {},
   "outputs": [
    {
     "ename": "NotImplementedError",
     "evalue": "Went to the parent class to search for this method.",
     "output_type": "error",
     "traceback": [
      "\u001b[0;31m---------------------------------------------------------------------------\u001b[0m",
      "\u001b[0;31mNotImplementedError\u001b[0m                       Traceback (most recent call last)",
      "Cell \u001b[0;32mIn [11], line 4\u001b[0m\n\u001b[1;32m      1\u001b[0m r1 \u001b[38;5;241m=\u001b[39m sh\u001b[38;5;241m.\u001b[39mRectangle(\u001b[38;5;124m\"\u001b[39m\u001b[38;5;124mFirst rectangle\u001b[39m\u001b[38;5;124m\"\u001b[39m,\u001b[38;5;241m2\u001b[39m,\u001b[38;5;241m4\u001b[39m,\u001b[38;5;28;01mNone\u001b[39;00m)\n\u001b[1;32m      2\u001b[0m r2 \u001b[38;5;241m=\u001b[39m sh\u001b[38;5;241m.\u001b[39mRectangle(\u001b[38;5;124m\"\u001b[39m\u001b[38;5;124mSecond rectangle\u001b[39m\u001b[38;5;124m\"\u001b[39m,\u001b[38;5;241m3\u001b[39m,\u001b[38;5;241m1\u001b[39m,\u001b[38;5;28;01mNone\u001b[39;00m)\n\u001b[0;32m----> 4\u001b[0m cSumFig \u001b[38;5;241m=\u001b[39m \u001b[43msh\u001b[49m\u001b[38;5;241;43m.\u001b[39;49m\u001b[43mRectangle\u001b[49m\u001b[38;5;241;43m.\u001b[39;49m\u001b[43msummingFigs\u001b[49m\u001b[43m(\u001b[49m\u001b[38;5;124;43m\"\u001b[39;49m\u001b[38;5;124;43mSummed rectangle\u001b[39;49m\u001b[38;5;124;43m\"\u001b[39;49m\u001b[43m,\u001b[49m\u001b[43mr1\u001b[49m\u001b[43m,\u001b[49m\u001b[43mr2\u001b[49m\u001b[43m)\u001b[49m\n",
      "File \u001b[0;32m~/Mounted/Programming/PythonSessions/SecondSession/Shapes.py:23\u001b[0m, in \u001b[0;36mShape.summingFigs\u001b[0;34m(cls, name, figure1, figure2)\u001b[0m\n\u001b[1;32m     21\u001b[0m \u001b[38;5;129m@classmethod\u001b[39m\n\u001b[1;32m     22\u001b[0m \u001b[38;5;28;01mdef\u001b[39;00m \u001b[38;5;21msummingFigs\u001b[39m(\u001b[38;5;28mcls\u001b[39m,name,figure1,figure2):\n\u001b[0;32m---> 23\u001b[0m     \u001b[38;5;28;01mraise\u001b[39;00m \u001b[38;5;167;01mNotImplementedError\u001b[39;00m(\u001b[38;5;124m\"\u001b[39m\u001b[38;5;124mWent to the parent class to search for this method.\u001b[39m\u001b[38;5;124m\"\u001b[39m)\n",
      "\u001b[0;31mNotImplementedError\u001b[0m: Went to the parent class to search for this method."
     ]
    }
   ],
   "source": [
    "r1 = sh.Rectangle(\"First rectangle\",2,4,None)\n",
    "r2 = sh.Rectangle(\"Second rectangle\",3,1,None)\n",
    "\n",
    "cSumFig = sh.Rectangle.summingFigs(\"Summed rectangle\",r1,r2)"
   ]
  },
  {
   "cell_type": "markdown",
   "id": "468cc115-1781-4763-a23f-be6bec96646f",
   "metadata": {},
   "source": [
    "- Implement the code in a way that allows the creation of new geometric shapes, e.g., ellipse or parallelogram, without modifying the Shape class.\n",
    "    - We can show how easy is to create new shapes:"
   ]
  },
  {
   "cell_type": "code",
   "execution_count": 12,
   "id": "4546ac77-1d16-41c1-a4c2-3e73c6ab9bc4",
   "metadata": {},
   "outputs": [],
   "source": [
    "class Ellipse(sh.Shape):\n",
    "    def __init__(self, name, base, height, area):\n",
    "        super().__init__(name, base, height) # The super() method, allows to invoke methods defined on the base class.\n",
    "        # THIS IS THE ONLY NEEDED CHANGE BETWEEN GEOMETRICAL FIGURES\n",
    "        self.area = base*height*3.14\n",
    "        \n",
    "    @classmethod\n",
    "    def summingFigs(cls,name,figure1,figure2):\n",
    "        return cls(name, figure1.base + figure2.base, figure1.height + figure2.height, None)\n",
    "    \n",
    "    @classmethod\n",
    "    def summingNums(cls,name,figure1,num):\n",
    "        return cls(name, figure1.base + num, figure1.height + num, None)"
   ]
  },
  {
   "cell_type": "code",
   "execution_count": 13,
   "id": "d0dfb383-b5e7-4149-bf03-6bea39e05607",
   "metadata": {},
   "outputs": [
    {
     "data": {
      "text/plain": [
       "Shape(First ellipse, 2,4,25.12)"
      ]
     },
     "execution_count": 13,
     "metadata": {},
     "output_type": "execute_result"
    }
   ],
   "source": [
    "e1 = Ellipse(\"First ellipse\",2,4,None)\n",
    "e1"
   ]
  },
  {
   "cell_type": "markdown",
   "id": "0ed66358-5405-4733-bcbb-867122d72b3d",
   "metadata": {},
   "source": [
    "Send Shapes.py with the implementation of the classes and a Jupyter Notebook ShapesUsage.ipynb (and ShapesUsage.html) with examples and comments."
   ]
  },
  {
   "cell_type": "code",
   "execution_count": null,
   "id": "b8dd5c45-2a82-4109-b40e-10a5655dcb1c",
   "metadata": {},
   "outputs": [],
   "source": []
  }
 ],
 "metadata": {
  "kernelspec": {
   "display_name": "Python 3 (ipykernel)",
   "language": "python",
   "name": "python3"
  },
  "language_info": {
   "codemirror_mode": {
    "name": "ipython",
    "version": 3
   },
   "file_extension": ".py",
   "mimetype": "text/x-python",
   "name": "python",
   "nbconvert_exporter": "python",
   "pygments_lexer": "ipython3",
   "version": "3.10.6"
  }
 },
 "nbformat": 4,
 "nbformat_minor": 5
}
