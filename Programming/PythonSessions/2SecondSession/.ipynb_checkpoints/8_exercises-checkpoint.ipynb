{
 "cells": [
  {
   "cell_type": "markdown",
   "id": "1b97a690-33b5-4de1-852e-d2990e336c93",
   "metadata": {},
   "source": [
    "# Exercises\n",
    "\n",
    "OOP Geometric Shapes\n",
    "\n",
    "\n",
    "Create a module in Python (Shapes.py) applying object-oriented programming for modeling basic geometric shapes. Create at least one class for each basic geometric shape: Circle, Rectangle, and Triangle. All of them must inherit from a “Shape” class, which defines the shared methods. This assignment does not have a unique solution. The objective is to implement different OOP concepts:\n",
    "\n",
    "- Overload __repr__ and __str__ to show the information of the geometric form. What is the difference between __str__ and __repr__?\n",
    "\n",
    "- Concerning arithmetic operators, operations between 2 figures are performed with the parameters of each geometric shape. For example, if we add 2 circles, a new circle, whose radius is the sum of the previous, is created. Regarding operations between figures and objects of numerical type, the number will be applied to each geometric shape’s attribute.\n",
    "\n",
    "- For comparison operators, the area of the figure is used to compare among shapes. Thus, shapes of different types are comparable, i.e., comparison operators should be implemented in the “Shape” class.\n",
    "\n",
    "- The “Shape” class must “enforce” the child classes the implementation of the shared methods (raise NotImplementedError). Can all methods (arithmetic and/or relational) be implemented in the parent class “Shape”?\n",
    "\n",
    "- Implement the code in a way that allows the creation of new geometric shapes, e.g., ellipse or parallelogram, without modifying the Shape class.\n",
    "\n",
    "Send Shapes.py with the implementation of the classes and a Jupyter Notebook ShapesUsage.ipynb (and ShapesUsage.html) with examples and comments."
   ]
  },
  {
   "cell_type": "code",
   "execution_count": 150,
   "id": "e9ef521d-003f-45b9-bb72-a946673719ba",
   "metadata": {},
   "outputs": [],
   "source": [
    "class Shape:\n",
    "    \n",
    "    def __init__(self, name,base,height):\n",
    "        self.name = name\n",
    "        self.base = base\n",
    "        self.height = height\n",
    "        \n",
    "    def __repr__(self):\n",
    "        return f\"Shape({self.name}, {repr(self.base)},{repr(self.height)},{repr(self.area)})\"\n",
    "    \n",
    "    def __str__(self):\n",
    "        return f\"{self.name.title()}\"\n",
    "        \n",
    "    @staticmethod\n",
    "    def bigger(figure1,figure2):\n",
    "        if figure1.area > figure2.area:\n",
    "            print(figure1, \"is bigger than\", figure2)\n",
    "        else:\n",
    "            print(figure2, \"is bigger than\", figure1)\n",
    "    \n",
    "    @classmethod\n",
    "    def summingFigs(cls,name,figure1,figure2):\n",
    "        raise NotImplementedError(\"Went to the parent class to search for this method.\")\n",
    "\n",
    "             \n",
    "class Circle(Shape):\n",
    "    \n",
    "    def __init__(self, name, radius, area):\n",
    "        super().__init__(name, radius, radius) # The super() method, allows to invoke methods defined on the base class.\n",
    "        # THIS IS THE ONLY NEEDED CHANGE BETWEEN GEOMETRICAL FIGURES\n",
    "        self.area = radius*radius*3.14\n",
    "    \n",
    "    @classmethod\n",
    "    def summingFigs(cls,name,figure1,figure2):\n",
    "        return cls(name, figure1.base + figure2.base, None)\n",
    "    \n",
    "    @classmethod\n",
    "    def summingNums(cls,name,figure1,num):\n",
    "        return cls(name, figure1.base + num, None)\n",
    "        \n",
    "        \n",
    "class Triangle(Shape):\n",
    "    def __init__(self, name, base, height, area):\n",
    "        super().__init__(name, base, height) # The super() method, allows to invoke methods defined on the base class.\n",
    "        # THIS IS THE ONLY NEEDED CHANGE BETWEEN GEOMETRICAL FIGURES\n",
    "        self.area = base*height*0.5\n",
    "        \n",
    "    @classmethod\n",
    "    def summingFigs(cls,name,figure1,figure2):\n",
    "        return cls(name, figure1.base + figure2.base, figure1.height + figure2.height, None)\n",
    "    \n",
    "    @classmethod\n",
    "    def summingNums(cls,name,figure1,num):\n",
    "        return cls(name, figure1.base + num, figure1.height + num, None)\n",
    "        \n",
    "        \n",
    "class Rectangle(Shape):\n",
    "    def __init__(self, name, base, height, area):\n",
    "        super().__init__(name, base, height) # The super() method, allows to invoke methods defined on the base class.\n",
    "        # THIS IS THE ONLY NEEDED CHANGE BETWEEN GEOMETRICAL FIGURES\n",
    "        self.area = base*height\n",
    "        \n",
    "    @classmethod\n",
    "    def summingFigs(cls,name,figure1,figure2):\n",
    "        return cls(name, figure1.base + figure2.base, figure1.height + figure2.height, None)\n",
    "    \n",
    "    @classmethod\n",
    "    def summingNums(cls,name,figure1,num):\n",
    "        return cls(name, figure1.base + num, figure1.height + num, None)\n",
    "    \n",
    "    \n",
    "class Ellipse(Shape):\n",
    "    def __init__(self, name, base, height, area):\n",
    "        super().__init__(name, base, height) # The super() method, allows to invoke methods defined on the base class.\n",
    "        # THIS IS THE ONLY NEEDED CHANGE BETWEEN GEOMETRICAL FIGURES\n",
    "        self.area = base*height*3.14\n",
    "        \n",
    "    # We will comment this part for the method to be run on the parent class\n",
    "    # @classmethod\n",
    "    # def summingFigs(cls,name,figure1,figure2):\n",
    "    #     return cls(name, figure1.base + figure2.base, figure1.height + figure2.height, None)\n",
    "    \n",
    "    @classmethod\n",
    "    def summingNums(cls,name,figure1,num):\n",
    "        return cls(name, figure1.base + num, figure1.height + num, None)"
   ]
  },
  {
   "cell_type": "code",
   "execution_count": 151,
   "id": "fe669238-beeb-4c60-a315-73a39070a88d",
   "metadata": {},
   "outputs": [],
   "source": [
    "a = Circle(\"First circle\", 2, None)\n",
    "b = Circle(\"Second circle\", 1, None)"
   ]
  },
  {
   "cell_type": "code",
   "execution_count": 152,
   "id": "90ffcdc8-d4fc-4cff-bd98-c3549500b59f",
   "metadata": {},
   "outputs": [
    {
     "data": {
      "text/plain": [
       "Shape(First circle, 2,2,12.56)"
      ]
     },
     "execution_count": 152,
     "metadata": {},
     "output_type": "execute_result"
    }
   ],
   "source": [
    "a"
   ]
  },
  {
   "cell_type": "code",
   "execution_count": 153,
   "id": "9573aa54-9060-474b-af25-696f254df694",
   "metadata": {},
   "outputs": [
    {
     "name": "stdout",
     "output_type": "stream",
     "text": [
      "First Circle\n"
     ]
    }
   ],
   "source": [
    "print(a)"
   ]
  },
  {
   "cell_type": "code",
   "execution_count": 154,
   "id": "15a58ffd-ed2a-40db-96cf-c2e846ed873b",
   "metadata": {},
   "outputs": [
    {
     "name": "stdout",
     "output_type": "stream",
     "text": [
      "First Circle is bigger than Second Circle\n"
     ]
    }
   ],
   "source": [
    "Shape.bigger(a,b)"
   ]
  },
  {
   "cell_type": "code",
   "execution_count": 156,
   "id": "14f9781c-13f6-44fe-97e6-a3de07f407df",
   "metadata": {},
   "outputs": [
    {
     "ename": "NotImplementedError",
     "evalue": "Went to the parent class to search for this method.",
     "output_type": "error",
     "traceback": [
      "\u001b[0;31m---------------------------------------------------------------------------\u001b[0m",
      "\u001b[0;31mNotImplementedError\u001b[0m                       Traceback (most recent call last)",
      "Cell \u001b[0;32mIn [156], line 1\u001b[0m\n\u001b[0;32m----> 1\u001b[0m c \u001b[38;5;241m=\u001b[39m \u001b[43mEllipse\u001b[49m\u001b[38;5;241;43m.\u001b[39;49m\u001b[43msummingFigs\u001b[49m\u001b[43m(\u001b[49m\u001b[38;5;124;43m\"\u001b[39;49m\u001b[38;5;124;43mNewcircle1\u001b[39;49m\u001b[38;5;124;43m\"\u001b[39;49m\u001b[43m,\u001b[49m\u001b[43ma\u001b[49m\u001b[43m,\u001b[49m\u001b[38;5;28;43;01mNone\u001b[39;49;00m\u001b[43m)\u001b[49m\n\u001b[1;32m      3\u001b[0m d \u001b[38;5;241m=\u001b[39m Circle\u001b[38;5;241m.\u001b[39msummingNums(\u001b[38;5;124m\"\u001b[39m\u001b[38;5;124mNew circle 2\u001b[39m\u001b[38;5;124m\"\u001b[39m,a,\u001b[38;5;28;01mNone\u001b[39;00m)\n",
      "Cell \u001b[0;32mIn [150], line 23\u001b[0m, in \u001b[0;36mShape.summingFigs\u001b[0;34m(cls, name, figure1, figure2)\u001b[0m\n\u001b[1;32m     21\u001b[0m \u001b[38;5;129m@classmethod\u001b[39m\n\u001b[1;32m     22\u001b[0m \u001b[38;5;28;01mdef\u001b[39;00m \u001b[38;5;21msummingFigs\u001b[39m(\u001b[38;5;28mcls\u001b[39m,name,figure1,figure2):\n\u001b[0;32m---> 23\u001b[0m     \u001b[38;5;28;01mraise\u001b[39;00m \u001b[38;5;167;01mNotImplementedError\u001b[39;00m(\u001b[38;5;124m\"\u001b[39m\u001b[38;5;124mWent to the parent class to search for this method.\u001b[39m\u001b[38;5;124m\"\u001b[39m)\n",
      "\u001b[0;31mNotImplementedError\u001b[0m: Went to the parent class to search for this method."
     ]
    }
   ],
   "source": [
    "c = Ellipse.summingFigs(\"Newcircle1\",a,None)\n",
    "\n",
    "d = Circle.summingNums(\"New circle 2\",a,None)"
   ]
  },
  {
   "cell_type": "code",
   "execution_count": 157,
   "id": "24a2386b-fafa-4b3e-9d4b-d4f244ad1be7",
   "metadata": {},
   "outputs": [
    {
     "data": {
      "text/plain": [
       "6"
      ]
     },
     "execution_count": 157,
     "metadata": {},
     "output_type": "execute_result"
    }
   ],
   "source": [
    "d.height"
   ]
  },
  {
   "cell_type": "code",
   "execution_count": 159,
   "id": "435606c6-d389-4863-a993-ef3dd87fff6f",
   "metadata": {},
   "outputs": [
    {
     "ename": "AttributeError",
     "evalue": "'Circle' object has no attribute 'radius'",
     "output_type": "error",
     "traceback": [
      "\u001b[0;31m---------------------------------------------------------------------------\u001b[0m",
      "\u001b[0;31mAttributeError\u001b[0m                            Traceback (most recent call last)",
      "Cell \u001b[0;32mIn [159], line 5\u001b[0m\n\u001b[1;32m      1\u001b[0m \u001b[38;5;28;01mimport\u001b[39;00m \u001b[38;5;21;01mmatplotlib\u001b[39;00m\u001b[38;5;21;01m.\u001b[39;00m\u001b[38;5;21;01mpyplot\u001b[39;00m \u001b[38;5;28;01mas\u001b[39;00m \u001b[38;5;21;01mplt\u001b[39;00m\n\u001b[1;32m      3\u001b[0m c \u001b[38;5;241m=\u001b[39m Circle\u001b[38;5;241m.\u001b[39msummingFigs(\u001b[38;5;124m\"\u001b[39m\u001b[38;5;124mNewcircle1\u001b[39m\u001b[38;5;124m\"\u001b[39m,a,b)\n\u001b[0;32m----> 5\u001b[0m circle1 \u001b[38;5;241m=\u001b[39m plt\u001b[38;5;241m.\u001b[39mCircle((\u001b[38;5;241m0\u001b[39m, \u001b[38;5;241m0\u001b[39m), \u001b[43ma\u001b[49m\u001b[38;5;241;43m.\u001b[39;49m\u001b[43mradius\u001b[49m, color\u001b[38;5;241m=\u001b[39m\u001b[38;5;124m'\u001b[39m\u001b[38;5;124mr\u001b[39m\u001b[38;5;124m'\u001b[39m)\n\u001b[1;32m      6\u001b[0m circle2 \u001b[38;5;241m=\u001b[39m plt\u001b[38;5;241m.\u001b[39mCircle((\u001b[38;5;241m0.5\u001b[39m, \u001b[38;5;241m0.5\u001b[39m), b\u001b[38;5;241m.\u001b[39mradius, color\u001b[38;5;241m=\u001b[39m\u001b[38;5;124m'\u001b[39m\u001b[38;5;124mblue\u001b[39m\u001b[38;5;124m'\u001b[39m)\n\u001b[1;32m      7\u001b[0m circle3 \u001b[38;5;241m=\u001b[39m plt\u001b[38;5;241m.\u001b[39mCircle((\u001b[38;5;241m1\u001b[39m, \u001b[38;5;241m1\u001b[39m), c\u001b[38;5;241m.\u001b[39mradius, color\u001b[38;5;241m=\u001b[39m\u001b[38;5;124m'\u001b[39m\u001b[38;5;124mg\u001b[39m\u001b[38;5;124m'\u001b[39m, clip_on\u001b[38;5;241m=\u001b[39m\u001b[38;5;28;01mFalse\u001b[39;00m)\n",
      "\u001b[0;31mAttributeError\u001b[0m: 'Circle' object has no attribute 'radius'"
     ]
    }
   ],
   "source": [
    "import matplotlib.pyplot as plt\n",
    "\n",
    "c = Circle.summingFigs(\"Newcircle1\",a,b)\n",
    "\n",
    "circle1 = plt.Circle((0, 0), a.radius, color='r')\n",
    "circle2 = plt.Circle((0.5, 0.5), b.radius, color='blue')\n",
    "circle3 = plt.Circle((1, 1), c.radius, color='g', clip_on=False)\n",
    "\n",
    "fig, ax = plt.subplots() # note we must use plt.subplots, not plt.subplot\n",
    "# (or if you have an existing figure)\n",
    "# fig = plt.gcf()\n",
    "# ax = fig.gca()\n",
    "\n",
    "ax.add_patch(circle1)\n",
    "ax.add_patch(circle2)\n",
    "ax.add_patch(circle3)\n",
    "\n",
    "fig.savefig('plotcircles.png')"
   ]
  },
  {
   "cell_type": "code",
   "execution_count": null,
   "id": "621f046f-a7d9-4b02-b064-18745b13466b",
   "metadata": {},
   "outputs": [],
   "source": []
  }
 ],
 "metadata": {
  "kernelspec": {
   "display_name": "Python 3 (ipykernel)",
   "language": "python",
   "name": "python3"
  },
  "language_info": {
   "codemirror_mode": {
    "name": "ipython",
    "version": 3
   },
   "file_extension": ".py",
   "mimetype": "text/x-python",
   "name": "python",
   "nbconvert_exporter": "python",
   "pygments_lexer": "ipython3",
   "version": "3.10.6"
  }
 },
 "nbformat": 4,
 "nbformat_minor": 5
}
