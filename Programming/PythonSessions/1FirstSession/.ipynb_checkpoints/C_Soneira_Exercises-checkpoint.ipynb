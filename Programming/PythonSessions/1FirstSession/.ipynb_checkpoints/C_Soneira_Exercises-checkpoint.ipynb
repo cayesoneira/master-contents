{
 "cells": [
  {
   "cell_type": "markdown",
   "id": "93d58acc-3943-406b-af37-01d65ec4c878",
   "metadata": {},
   "source": [
    "# Exercises"
   ]
  },
  {
   "cell_type": "markdown",
   "id": "b64a29b4-3b82-4f12-aafc-38bec7af1ae9",
   "metadata": {},
   "source": [
    "**1. Create a list which contains three tuples. Each tuple has one, two and three elements respectively. Access the second element of the second tuple.**"
   ]
  },
  {
   "cell_type": "code",
   "execution_count": 6,
   "id": "97eb9d67-55ec-42f4-bcf8-f54c919ea08c",
   "metadata": {},
   "outputs": [
    {
     "data": {
      "text/plain": [
       "'you'"
      ]
     },
     "execution_count": 6,
     "metadata": {},
     "output_type": "execute_result"
    }
   ],
   "source": [
    "l=[(1),(\"foo\",\"you\"),(\"hey\",\"ho\",\"lets go\")]\n",
    "l[1][1]"
   ]
  },
  {
   "cell_type": "markdown",
   "id": "eeeca629-b186-4250-b1a6-d3d0a5d2b98d",
   "metadata": {},
   "source": [
    "**2. Write a Python program to convert a temperature given in Fahrenheit degrees to its equivalent in Celsius. Your program should ask the user for an input value and print the output.** "
   ]
  },
  {
   "cell_type": "code",
   "execution_count": 22,
   "id": "4762566c-997f-4efe-98d5-10d852a9bf73",
   "metadata": {},
   "outputs": [
    {
     "name": "stdin",
     "output_type": "stream",
     "text": [
      "Temp in Fahrenheit 60\n"
     ]
    },
    {
     "name": "stdout",
     "output_type": "stream",
     "text": [
      "15.56 Celsius\n"
     ]
    }
   ],
   "source": [
    "def FtoC():\n",
    "    F = float(input(\"Temp in Fahrenheit\"))\n",
    "    C=(F-32)*5/9\n",
    "    print(f\"{C:.2f} Celsius\")\n",
    "    \n",
    "FtoC()"
   ]
  },
  {
   "cell_type": "markdown",
   "id": "2bc966e0-f901-46f4-a0ce-a406427145d7",
   "metadata": {},
   "source": [
    "**3.Write a Python program to assign grades to students. The program must do the following tasks:**    \n",
    "- **Ask for a student number.**\n",
    "- **Ask for the student's tutorial mark.**\n",
    "- **Ask for the student's test mark.**\n",
    "- **Check whether the average so far is sufficiently large as to let the student take the final exam. If the average is less than 40% the student gets an F grade, the program prints the grade and exits.**\n",
    "- **Ask for the student's final exam mark.**\n",
    "- **Compute the student's final mark: the tutorial and test marks account for a 25% of the final grade each while the exam is worth 50%.**\n",
    "- **Obtain and print the student's final grade:**\n",
    "\n",
    "    | Final mark | Final grade |\n",
    "    | ----------- | ----------- |\n",
    "    | 90 <= mark <= 100      | A       |\n",
    "    | 70 <= mark < 90   | B        |\n",
    "    | 60 <= mark < 70   | C        |\n",
    "    | 50 <= mark < 60   | D        |\n",
    "    |  mark < 50   | E        |"
   ]
  },
  {
   "cell_type": "code",
   "execution_count": 45,
   "id": "9c7b88f2-0914-4ec0-aa88-8b84e2cb87ea",
   "metadata": {},
   "outputs": [
    {
     "name": "stdin",
     "output_type": "stream",
     "text": [
      "Student number 45\n",
      "Student's tutorial mark 67\n",
      "Student's test mark 67\n",
      "Student's final exam mark 67\n"
     ]
    },
    {
     "name": "stdout",
     "output_type": "stream",
     "text": [
      "You got 67.00, so it's an C\n"
     ]
    }
   ],
   "source": [
    "def mark():\n",
    "    num = float(input(\"Student number\"))\n",
    "    tut = float(input(\"Student\\'s tutorial mark\"))\n",
    "    tes = float(input(\"Student\\'s test mark\"))\n",
    "    if tut > 100 or tes > 100:\n",
    "        print(\"Error: notes higher than 100\")\n",
    "    else:\n",
    "        av1 = (tut+tes)/2\n",
    "        if av1 < 40:\n",
    "            print(\"You cannot do the final exam: grade F.\")\n",
    "        else:\n",
    "            fin = float(input(\"Student\\'s final exam mark\"))\n",
    "            grade = 0.5*av1 + 0.5*fin\n",
    "            #dict = {\"A\":100,\"B\":90,\"C\":70,\"D\":60,\"E\":50}\n",
    "            if (grade >= 90) and (grade <= 100):\n",
    "                print(f\"You got {grade:.2f}, so it\\'s an A\")\n",
    "            elif (grade >= 70) and (grade < 90):\n",
    "                print(f\"You got {grade:.2f}, so it\\'s an B\")\n",
    "            elif (grade >= 60) and (grade < 70):\n",
    "                print(f\"You got {grade:.2f}, so it\\'s an C\")\n",
    "            elif (grade >= 50) and (grade < 60): \n",
    "                print(f\"You got {grade:.2f}, so it\\'s an D\")\n",
    "            elif (grade >= 0) and (grade < 50):\n",
    "                print(f\"You got {grade:.0f}, so it\\'s an E\")\n",
    "                \n",
    "mark()"
   ]
  },
  {
   "cell_type": "markdown",
   "id": "7a7c9279-6517-4988-912e-c7a807eb3b8e",
   "metadata": {},
   "source": [
    "**4. Write a program which uses a nested for loop to populate a three-dimensional list representing a calendar: the top-level list should contain a sub-list for each month, and each month should contain for weaks. Each week should be an empty list**"
   ]
  },
  {
   "cell_type": "code",
   "execution_count": 27,
   "id": "d14152b7-5b5c-4a8d-8242-e2a0abbddbe9",
   "metadata": {},
   "outputs": [],
   "source": [
    "cal = []\n",
    "for i in range(12):\n",
    "    cal.append([])\n",
    "    for j in range(4):\n",
    "        cal[i].append([])\n",
    "        for k in range(1):\n",
    "            cal[i][j].append([])"
   ]
  },
  {
   "cell_type": "markdown",
   "id": "fb861126-a17b-41ff-97e6-c685c4808e71",
   "metadata": {},
   "source": [
    "**5. Modify the code from the previous exercise to make it easier  to access a the list elements. A mont should be access by a name and a week by a number from 1 to 4. Add an event (string) to the second week of July.**"
   ]
  },
  {
   "cell_type": "code",
   "execution_count": 49,
   "id": "97817a6a-4311-47f8-bb70-791ad8c37fd3",
   "metadata": {},
   "outputs": [
    {
     "data": {
      "text/plain": [
       "[\"Foo's birthday\"]"
      ]
     },
     "execution_count": 49,
     "metadata": {},
     "output_type": "execute_result"
    }
   ],
   "source": [
    "week = {\"1\":[],\"2\":[],\"3\":[],\"4\":[]}\n",
    "\n",
    "dict = {\"January\":week,\n",
    "        \"February\":week,\n",
    "        \"March\":week,\n",
    "        \"April\":week,\n",
    "        \"May\":week,\n",
    "        \"June\":week,\n",
    "        \"July\":week,\n",
    "        \"August\":week,\n",
    "        \"September\":week,\n",
    "        \"October\":week,\n",
    "        \"November\":week,\n",
    "        \"December\":week\n",
    "       }\n",
    "\n",
    "dict[\"July\"][\"2\"].append(\"Foo's birthday\")\n",
    "dict[\"July\"][\"2\"]"
   ]
  },
  {
   "cell_type": "markdown",
   "id": "6d732340-efd9-47c7-a332-f690d2b62314",
   "metadata": {},
   "source": [
    "**6. Write a program which repeatedly askes the user for an integer. If the integer is even, print the integer. If the integer is odd, don't print anything. If the input integer is equal to 99 exit the program.**"
   ]
  },
  {
   "cell_type": "code",
   "execution_count": 60,
   "id": "ee63a21d-9393-4517-9401-b62f6ddc497a",
   "metadata": {},
   "outputs": [
    {
     "name": "stdin",
     "output_type": "stream",
     "text": [
      "Enter an integer 4\n"
     ]
    },
    {
     "name": "stdout",
     "output_type": "stream",
     "text": [
      "4\n"
     ]
    },
    {
     "name": "stdin",
     "output_type": "stream",
     "text": [
      "Enter an integer 5\n",
      "Enter an integer 6\n"
     ]
    },
    {
     "name": "stdout",
     "output_type": "stream",
     "text": [
      "6\n"
     ]
    },
    {
     "name": "stdin",
     "output_type": "stream",
     "text": [
      "Enter an integer 5\n",
      "Enter an integer 4\n"
     ]
    },
    {
     "name": "stdout",
     "output_type": "stream",
     "text": [
      "4\n"
     ]
    },
    {
     "name": "stdin",
     "output_type": "stream",
     "text": [
      "Enter an integer 3\n",
      "Enter an integer 5\n",
      "Enter an integer 99\n"
     ]
    },
    {
     "name": "stdout",
     "output_type": "stream",
     "text": [
      "Exit\n"
     ]
    }
   ],
   "source": [
    "def ask():\n",
    "    for i in range(99):\n",
    "        n=int(input(\"Enter an integer\"))\n",
    "        if (n % 2==0):\n",
    "            print(n)\n",
    "        if n==99:\n",
    "            print(\"Exit\")\n",
    "            break\n",
    "        else:\n",
    "            continue\n",
    "            \n",
    "ask()"
   ]
  },
  {
   "cell_type": "markdown",
   "id": "05db9016-8954-45ed-90b6-2b6c1d8f4945",
   "metadata": {},
   "source": [
    "**7. Write a recursive function which calculates the factorial of a given number. The function should verify that the input value is a positive integer. Optional: check the decorator lru_cache from functools to optimize your function.**"
   ]
  },
  {
   "cell_type": "code",
   "execution_count": 79,
   "id": "7e02e30c-ea8b-4cf4-94d6-6116e212905d",
   "metadata": {},
   "outputs": [
    {
     "name": "stdout",
     "output_type": "stream",
     "text": [
      "The factorial of 4 is 24\n"
     ]
    }
   ],
   "source": [
    "#@functools.lru_cache(factorial)\n",
    "#@functools.lru_cache(maxsize=128, typed=False)\n",
    "\n",
    "from functools import lru_cache\n",
    "\n",
    "@lru_cache(maxsize=128)\n",
    "def factorial(x):\n",
    "    \"\"\"\n",
    "    This is a recursive function\n",
    "    to find the factorial of an integer modified\n",
    "    from https://www.programiz.com/python-programming/recursion\n",
    "    \"\"\"\n",
    "    i, d = divmod(x, 1)\n",
    "    \n",
    "    if (d == 0) and (x > 0):\n",
    "        if x == 1:\n",
    "            return 1\n",
    "        else:\n",
    "            return (x * factorial(x-1))\n",
    "\n",
    "num = 4\n",
    "print(\"The factorial of\", num, \"is\", factorial(num))"
   ]
  },
  {
   "cell_type": "markdown",
   "id": "8b626c18-77b0-4204-8ffc-b4e89868a2b8",
   "metadata": {},
   "source": [
    "**8. Write a function called calculator. The funtion should have the following arguments: two numbers, an arithmetic operation (addition, subtraction, multiplication or division) which is addition by default, and an output format (integer or float) which is floating point by default. Evaluate the function with several examples of your own and check that you get the expected output.**"
   ]
  },
  {
   "cell_type": "code",
   "execution_count": 120,
   "id": "0b9bf494-d1f3-4612-a734-5e063aee2435",
   "metadata": {},
   "outputs": [
    {
     "name": "stdout",
     "output_type": "stream",
     "text": [
      "8.00\n",
      "-2.00\n",
      "15.00\n",
      "15.00\n",
      "15\n",
      "15.00\n",
      "0.60\n",
      "1.0\n",
      "0.60\n"
     ]
    }
   ],
   "source": [
    "def calculator(a,b,op,form):\n",
    "    if op == \"+\" or op == None:\n",
    "        c = a+b\n",
    "    if op == \"-\":\n",
    "        c = a-b\n",
    "    if op == \"*\":\n",
    "        c = a*b\n",
    "    if op == \"/\":\n",
    "        c = a/b\n",
    "        \n",
    "    if form == \"int\":\n",
    "        print(round(c,0))\n",
    "    if form == \"flo\":\n",
    "        print(f'{c:.2f}')\n",
    "    else:\n",
    "        print(f'{c:.2f}')\n",
    "        \n",
    "calculator(3,5,\"+\",None)\n",
    "\n",
    "calculator(3,5,\"-\",None)\n",
    "\n",
    "calculator(3,5,\"*\",None)\n",
    "calculator(3,5,\"*\",\"flo\")\n",
    "calculator(3,5,\"*\",\"int\")\n",
    "\n",
    "calculator(3,5,\"/\",None)\n",
    "calculator(3,5,\"/\",\"int\")"
   ]
  },
  {
   "cell_type": "code",
   "execution_count": null,
   "id": "9eeef52d-f286-4429-9c51-387a2426764e",
   "metadata": {},
   "outputs": [],
   "source": []
  },
  {
   "cell_type": "code",
   "execution_count": null,
   "id": "4838700c-75be-4978-88a5-c463a11fc0ec",
   "metadata": {},
   "outputs": [],
   "source": []
  }
 ],
 "metadata": {
  "kernelspec": {
   "display_name": "Python 3 (ipykernel)",
   "language": "python",
   "name": "python3"
  },
  "language_info": {
   "codemirror_mode": {
    "name": "ipython",
    "version": 3
   },
   "file_extension": ".py",
   "mimetype": "text/x-python",
   "name": "python",
   "nbconvert_exporter": "python",
   "pygments_lexer": "ipython3",
   "version": "3.10.6"
  }
 },
 "nbformat": 4,
 "nbformat_minor": 5
}
