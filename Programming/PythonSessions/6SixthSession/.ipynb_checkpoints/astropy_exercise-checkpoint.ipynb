{
 "cells": [
  {
   "cell_type": "markdown",
   "metadata": {},
   "source": [
    "# Programming in the Scientific Environment \n",
    "\n",
    "## Aplications to Astrophysics II. Exercise\n",
    "\n",
    "\n",
    "\n",
    "In  dark  matter  simulations,  galaxy  and  cluster  halos were all shown to have mass density profiles well approximated by the NFW (Navarro-French-White) profile:\n",
    "\\begin{equation}\n",
    "    \\rho(r) = \\dfrac{\\rho_s}{\\left(\\frac{r}{r_s}\\right)\\left(1+\\frac{r}{r_s}\\right)^2}.\n",
    "\\end{equation}\n",
    "\n",
    "This “universal” profile is still agood approximation to today’s simulated halos. However the higher resolution dark matter simulations reveal subtle differences. Deviations were sought for using a generalized version of the NFW profile. The following are some of those generalized profiles:\n",
    "\n",
    "\\begin{align}\n",
    " \\textrm{Moore} & \\hspace{2cm} \\rho(r) = \\dfrac{\\rho_M}{\\left(\\frac{r}{r_M}\\right)^{\\gamma}\\left(1+\\frac{r}{r_M}\\right)^{3-\\gamma}},\\\\\n",
    "  \\textrm{Einasto} & \\hspace{2cm} \\rho(r) = \\rho_E\\exp\\left(-\\dfrac{2}{\\alpha}\\left(\\left(\\dfrac{r}{r_M}\\right)^{\\alpha}-1\\right)\\right).\\\\\n",
    "\\end{align}\n",
    "\n",
    "\n",
    "In this exercise you have to:\n",
    "   \n",
    "   * Read the simulated dark matter halo profile data stored in dark_matter_halo_density_profile.fits\n",
    "   * Fit the data using the above profile models with **astropy.modeling** and **emcee**\n",
    "   * Compare the goodness of the fit using the reduce $\\chi^2$ and AIC (https://en.wikipedia.org/wiki/Akaike_information_criterion)\n",
    "    "
   ]
  },
  {
   "cell_type": "code",
   "execution_count": null,
   "metadata": {},
   "outputs": [],
   "source": []
  }
 ],
 "metadata": {
  "kernelspec": {
   "display_name": "Python 3",
   "language": "python",
   "name": "python3"
  },
  "language_info": {
   "codemirror_mode": {
    "name": "ipython",
    "version": 3
   },
   "file_extension": ".py",
   "mimetype": "text/x-python",
   "name": "python",
   "nbconvert_exporter": "python",
   "pygments_lexer": "ipython3",
   "version": "3.8.5"
  }
 },
 "nbformat": 4,
 "nbformat_minor": 4
}
